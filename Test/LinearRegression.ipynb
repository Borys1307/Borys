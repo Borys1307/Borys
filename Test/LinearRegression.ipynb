{
  "nbformat": 4,
  "nbformat_minor": 0,
  "metadata": {
    "kernelspec": {
      "display_name": "Python 3",
      "language": "python",
      "name": "python3"
    },
    "language_info": {
      "codemirror_mode": {
        "name": "ipython",
        "version": 3
      },
      "file_extension": ".py",
      "mimetype": "text/x-python",
      "name": "python",
      "nbconvert_exporter": "python",
      "pygments_lexer": "ipython3",
      "version": "3.7.0"
    },
    "colab": {
      "name": "Copy_of_Untitled22.ipynb",
      "provenance": [],
      "collapsed_sections": []
    }
  },
  "cells": [
    {
      "cell_type": "code",
      "metadata": {
        "id": "R5xh-b3V614i",
        "colab_type": "code",
        "colab": {}
      },
      "source": [
        "import numpy as np\n",
        "import pandas as pd\n",
        "import matplotlib.pyplot as plt\n",
        "from sklearn import preprocessing\n",
        "from scipy import stats\n",
        "from sklearn.decomposition import PCA\n",
        "from sklearn.metrics import accuracy_score, confusion_matrix, f1_score, precision_score, recall_score\n",
        "import tensorflow as tf\n",
        "from tensorflow.keras.regularizers import l1"
      ],
      "execution_count": 0,
      "outputs": []
    },
    {
      "cell_type": "code",
      "metadata": {
        "id": "MEhr3iGO614q",
        "colab_type": "code",
        "colab": {}
      },
      "source": [
        "df_train = pd.read_csv('/content/WINE.csv')\n",
        "df_test = pd.read_csv('/content/TEST.csv')"
      ],
      "execution_count": 0,
      "outputs": []
    },
    {
      "cell_type": "code",
      "metadata": {
        "id": "HEhMuzDk614u",
        "colab_type": "code",
        "colab": {}
      },
      "source": [
        "Y_train = np.array(df_train['Target'].astype('int32')).reshape(len(df_train['Target']),).T\n",
        "df_train.drop(['Index', 'Target'], axis = 1, inplace = True)\n",
        "df_test.drop(['Index'], axis = 1, inplace = True)"
      ],
      "execution_count": 0,
      "outputs": []
    },
    {
      "cell_type": "code",
      "metadata": {
        "id": "rga5PjJX614y",
        "colab_type": "code",
        "outputId": "34940552-b70a-4f5a-892c-e0e0762bc918",
        "colab": {
          "base_uri": "https://localhost:8080/",
          "height": 204
        }
      },
      "source": [
        "df_train.head()"
      ],
      "execution_count": 0,
      "outputs": [
        {
          "output_type": "execute_result",
          "data": {
            "text/html": [
              "<div>\n",
              "<style scoped>\n",
              "    .dataframe tbody tr th:only-of-type {\n",
              "        vertical-align: middle;\n",
              "    }\n",
              "\n",
              "    .dataframe tbody tr th {\n",
              "        vertical-align: top;\n",
              "    }\n",
              "\n",
              "    .dataframe thead th {\n",
              "        text-align: right;\n",
              "    }\n",
              "</style>\n",
              "<table border=\"1\" class=\"dataframe\">\n",
              "  <thead>\n",
              "    <tr style=\"text-align: right;\">\n",
              "      <th></th>\n",
              "      <th>Type</th>\n",
              "      <th>Alcohol</th>\n",
              "      <th>Density</th>\n",
              "      <th>Nitrogen</th>\n",
              "      <th>pH</th>\n",
              "      <th>Sugar</th>\n",
              "      <th>A</th>\n",
              "      <th>B</th>\n",
              "      <th>C</th>\n",
              "      <th>D</th>\n",
              "      <th>Di</th>\n",
              "      <th>E</th>\n",
              "      <th>H</th>\n",
              "      <th>S</th>\n",
              "      <th>U</th>\n",
              "      <th>V</th>\n",
              "    </tr>\n",
              "  </thead>\n",
              "  <tbody>\n",
              "    <tr>\n",
              "      <th>0</th>\n",
              "      <td>white_wine</td>\n",
              "      <td>7.50</td>\n",
              "      <td>1.02</td>\n",
              "      <td>7.51</td>\n",
              "      <td>3.19</td>\n",
              "      <td>10.85</td>\n",
              "      <td>25.1</td>\n",
              "      <td>1.98</td>\n",
              "      <td>10.2</td>\n",
              "      <td>39.6</td>\n",
              "      <td>49.10</td>\n",
              "      <td>1.37</td>\n",
              "      <td>2.36</td>\n",
              "      <td>2.34</td>\n",
              "      <td>6.35</td>\n",
              "      <td>0.29</td>\n",
              "    </tr>\n",
              "    <tr>\n",
              "      <th>1</th>\n",
              "      <td>white_wine</td>\n",
              "      <td>7.65</td>\n",
              "      <td>1.02</td>\n",
              "      <td>3.41</td>\n",
              "      <td>3.40</td>\n",
              "      <td>1.54</td>\n",
              "      <td>23.9</td>\n",
              "      <td>1.58</td>\n",
              "      <td>4.2</td>\n",
              "      <td>38.5</td>\n",
              "      <td>48.16</td>\n",
              "      <td>0.94</td>\n",
              "      <td>2.42</td>\n",
              "      <td>3.07</td>\n",
              "      <td>7.65</td>\n",
              "      <td>0.05</td>\n",
              "    </tr>\n",
              "    <tr>\n",
              "      <th>2</th>\n",
              "      <td>red_wine</td>\n",
              "      <td>8.10</td>\n",
              "      <td>1.02</td>\n",
              "      <td>0.25</td>\n",
              "      <td>3.76</td>\n",
              "      <td>2.11</td>\n",
              "      <td>21.7</td>\n",
              "      <td>7.92</td>\n",
              "      <td>0.3</td>\n",
              "      <td>22.0</td>\n",
              "      <td>34.93</td>\n",
              "      <td>1.26</td>\n",
              "      <td>4.84</td>\n",
              "      <td>4.38</td>\n",
              "      <td>4.40</td>\n",
              "      <td>0.22</td>\n",
              "    </tr>\n",
              "    <tr>\n",
              "      <th>3</th>\n",
              "      <td>white_wine</td>\n",
              "      <td>8.80</td>\n",
              "      <td>1.01</td>\n",
              "      <td>6.35</td>\n",
              "      <td>3.11</td>\n",
              "      <td>3.82</td>\n",
              "      <td>24.3</td>\n",
              "      <td>1.45</td>\n",
              "      <td>4.2</td>\n",
              "      <td>16.5</td>\n",
              "      <td>33.77</td>\n",
              "      <td>1.01</td>\n",
              "      <td>1.49</td>\n",
              "      <td>8.18</td>\n",
              "      <td>3.60</td>\n",
              "      <td>0.10</td>\n",
              "    </tr>\n",
              "    <tr>\n",
              "      <th>4</th>\n",
              "      <td>red_wine</td>\n",
              "      <td>7.80</td>\n",
              "      <td>1.02</td>\n",
              "      <td>5.34</td>\n",
              "      <td>3.51</td>\n",
              "      <td>3.25</td>\n",
              "      <td>27.3</td>\n",
              "      <td>5.15</td>\n",
              "      <td>4.5</td>\n",
              "      <td>31.9</td>\n",
              "      <td>40.26</td>\n",
              "      <td>1.57</td>\n",
              "      <td>4.15</td>\n",
              "      <td>4.53</td>\n",
              "      <td>6.45</td>\n",
              "      <td>0.14</td>\n",
              "    </tr>\n",
              "  </tbody>\n",
              "</table>\n",
              "</div>"
            ],
            "text/plain": [
              "         Type  Alcohol  Density  Nitrogen    pH  ...     E     H     S     U     V\n",
              "0  white_wine     7.50     1.02      7.51  3.19  ...  1.37  2.36  2.34  6.35  0.29\n",
              "1  white_wine     7.65     1.02      3.41  3.40  ...  0.94  2.42  3.07  7.65  0.05\n",
              "2    red_wine     8.10     1.02      0.25  3.76  ...  1.26  4.84  4.38  4.40  0.22\n",
              "3  white_wine     8.80     1.01      6.35  3.11  ...  1.01  1.49  8.18  3.60  0.10\n",
              "4    red_wine     7.80     1.02      5.34  3.51  ...  1.57  4.15  4.53  6.45  0.14\n",
              "\n",
              "[5 rows x 16 columns]"
            ]
          },
          "metadata": {
            "tags": []
          },
          "execution_count": 109
        }
      ]
    },
    {
      "cell_type": "code",
      "metadata": {
        "id": "BhMAtwF96143",
        "colab_type": "code",
        "colab": {}
      },
      "source": [
        "df_train.loc[df_train['A'].isna(),'A'] = df_train['A'].mean()\n",
        "df_train.loc[df_train['H'].isna(),'H'] = df_train['H'].mean()"
      ],
      "execution_count": 0,
      "outputs": []
    },
    {
      "cell_type": "code",
      "metadata": {
        "id": "rVlx_N6Y76PU",
        "colab_type": "code",
        "colab": {}
      },
      "source": [
        "one_hot = pd.get_dummies(df_train['Type'])\n",
        "df_train.insert(loc = 1, column = 'red_wine', value = one_hot['red_wine'])\n",
        "df_train.insert(loc = 2, column = 'white_wine', value = one_hot['white_wine'])\n",
        "one_hot = pd.get_dummies(df_test['Type'])\n",
        "df_test.insert(loc = 1, column = 'red_wine', value = one_hot['red_wine'])\n",
        "df_test.insert(loc = 2, column = 'white_wine', value = one_hot['white_wine'])"
      ],
      "execution_count": 0,
      "outputs": []
    },
    {
      "cell_type": "code",
      "metadata": {
        "id": "5uxNvEPf8qJj",
        "colab_type": "code",
        "colab": {}
      },
      "source": [
        "df_train.drop(['Type'], axis = 1, inplace = True)\n",
        "df_test.drop(['Type'], axis = 1, inplace = True)"
      ],
      "execution_count": 0,
      "outputs": []
    },
    {
      "cell_type": "code",
      "metadata": {
        "id": "vxGyPnay8r3m",
        "colab_type": "code",
        "outputId": "74771cda-77e0-4251-a210-1608278aa051",
        "colab": {
          "base_uri": "https://localhost:8080/",
          "height": 204
        }
      },
      "source": [
        "df_train.head()"
      ],
      "execution_count": 0,
      "outputs": [
        {
          "output_type": "execute_result",
          "data": {
            "text/html": [
              "<div>\n",
              "<style scoped>\n",
              "    .dataframe tbody tr th:only-of-type {\n",
              "        vertical-align: middle;\n",
              "    }\n",
              "\n",
              "    .dataframe tbody tr th {\n",
              "        vertical-align: top;\n",
              "    }\n",
              "\n",
              "    .dataframe thead th {\n",
              "        text-align: right;\n",
              "    }\n",
              "</style>\n",
              "<table border=\"1\" class=\"dataframe\">\n",
              "  <thead>\n",
              "    <tr style=\"text-align: right;\">\n",
              "      <th></th>\n",
              "      <th>red_wine</th>\n",
              "      <th>white_wine</th>\n",
              "      <th>Alcohol</th>\n",
              "      <th>Density</th>\n",
              "      <th>Nitrogen</th>\n",
              "      <th>pH</th>\n",
              "      <th>Sugar</th>\n",
              "      <th>A</th>\n",
              "      <th>B</th>\n",
              "      <th>C</th>\n",
              "      <th>D</th>\n",
              "      <th>Di</th>\n",
              "      <th>E</th>\n",
              "      <th>H</th>\n",
              "      <th>S</th>\n",
              "      <th>U</th>\n",
              "      <th>V</th>\n",
              "    </tr>\n",
              "  </thead>\n",
              "  <tbody>\n",
              "    <tr>\n",
              "      <th>0</th>\n",
              "      <td>0</td>\n",
              "      <td>1</td>\n",
              "      <td>7.50</td>\n",
              "      <td>1.02</td>\n",
              "      <td>7.51</td>\n",
              "      <td>3.19</td>\n",
              "      <td>10.85</td>\n",
              "      <td>25.1</td>\n",
              "      <td>1.98</td>\n",
              "      <td>10.2</td>\n",
              "      <td>39.6</td>\n",
              "      <td>49.10</td>\n",
              "      <td>1.37</td>\n",
              "      <td>2.36</td>\n",
              "      <td>2.34</td>\n",
              "      <td>6.35</td>\n",
              "      <td>0.29</td>\n",
              "    </tr>\n",
              "    <tr>\n",
              "      <th>1</th>\n",
              "      <td>0</td>\n",
              "      <td>1</td>\n",
              "      <td>7.65</td>\n",
              "      <td>1.02</td>\n",
              "      <td>3.41</td>\n",
              "      <td>3.40</td>\n",
              "      <td>1.54</td>\n",
              "      <td>23.9</td>\n",
              "      <td>1.58</td>\n",
              "      <td>4.2</td>\n",
              "      <td>38.5</td>\n",
              "      <td>48.16</td>\n",
              "      <td>0.94</td>\n",
              "      <td>2.42</td>\n",
              "      <td>3.07</td>\n",
              "      <td>7.65</td>\n",
              "      <td>0.05</td>\n",
              "    </tr>\n",
              "    <tr>\n",
              "      <th>2</th>\n",
              "      <td>1</td>\n",
              "      <td>0</td>\n",
              "      <td>8.10</td>\n",
              "      <td>1.02</td>\n",
              "      <td>0.25</td>\n",
              "      <td>3.76</td>\n",
              "      <td>2.11</td>\n",
              "      <td>21.7</td>\n",
              "      <td>7.92</td>\n",
              "      <td>0.3</td>\n",
              "      <td>22.0</td>\n",
              "      <td>34.93</td>\n",
              "      <td>1.26</td>\n",
              "      <td>4.84</td>\n",
              "      <td>4.38</td>\n",
              "      <td>4.40</td>\n",
              "      <td>0.22</td>\n",
              "    </tr>\n",
              "    <tr>\n",
              "      <th>3</th>\n",
              "      <td>0</td>\n",
              "      <td>1</td>\n",
              "      <td>8.80</td>\n",
              "      <td>1.01</td>\n",
              "      <td>6.35</td>\n",
              "      <td>3.11</td>\n",
              "      <td>3.82</td>\n",
              "      <td>24.3</td>\n",
              "      <td>1.45</td>\n",
              "      <td>4.2</td>\n",
              "      <td>16.5</td>\n",
              "      <td>33.77</td>\n",
              "      <td>1.01</td>\n",
              "      <td>1.49</td>\n",
              "      <td>8.18</td>\n",
              "      <td>3.60</td>\n",
              "      <td>0.10</td>\n",
              "    </tr>\n",
              "    <tr>\n",
              "      <th>4</th>\n",
              "      <td>1</td>\n",
              "      <td>0</td>\n",
              "      <td>7.80</td>\n",
              "      <td>1.02</td>\n",
              "      <td>5.34</td>\n",
              "      <td>3.51</td>\n",
              "      <td>3.25</td>\n",
              "      <td>27.3</td>\n",
              "      <td>5.15</td>\n",
              "      <td>4.5</td>\n",
              "      <td>31.9</td>\n",
              "      <td>40.26</td>\n",
              "      <td>1.57</td>\n",
              "      <td>4.15</td>\n",
              "      <td>4.53</td>\n",
              "      <td>6.45</td>\n",
              "      <td>0.14</td>\n",
              "    </tr>\n",
              "  </tbody>\n",
              "</table>\n",
              "</div>"
            ],
            "text/plain": [
              "   red_wine  white_wine  Alcohol  Density  ...     H     S     U     V\n",
              "0         0           1     7.50     1.02  ...  2.36  2.34  6.35  0.29\n",
              "1         0           1     7.65     1.02  ...  2.42  3.07  7.65  0.05\n",
              "2         1           0     8.10     1.02  ...  4.84  4.38  4.40  0.22\n",
              "3         0           1     8.80     1.01  ...  1.49  8.18  3.60  0.10\n",
              "4         1           0     7.80     1.02  ...  4.15  4.53  6.45  0.14\n",
              "\n",
              "[5 rows x 17 columns]"
            ]
          },
          "metadata": {
            "tags": []
          },
          "execution_count": 113
        }
      ]
    },
    {
      "cell_type": "code",
      "metadata": {
        "id": "ahjAxxCv-3JO",
        "colab_type": "code",
        "outputId": "18cd1713-22ed-4fd7-98d6-71ba55aa7b22",
        "colab": {
          "base_uri": "https://localhost:8080/",
          "height": 204
        }
      },
      "source": [
        "df_test.head()"
      ],
      "execution_count": 0,
      "outputs": [
        {
          "output_type": "execute_result",
          "data": {
            "text/html": [
              "<div>\n",
              "<style scoped>\n",
              "    .dataframe tbody tr th:only-of-type {\n",
              "        vertical-align: middle;\n",
              "    }\n",
              "\n",
              "    .dataframe tbody tr th {\n",
              "        vertical-align: top;\n",
              "    }\n",
              "\n",
              "    .dataframe thead th {\n",
              "        text-align: right;\n",
              "    }\n",
              "</style>\n",
              "<table border=\"1\" class=\"dataframe\">\n",
              "  <thead>\n",
              "    <tr style=\"text-align: right;\">\n",
              "      <th></th>\n",
              "      <th>red_wine</th>\n",
              "      <th>white_wine</th>\n",
              "      <th>Alcohol</th>\n",
              "      <th>Density</th>\n",
              "      <th>Nitrogen</th>\n",
              "      <th>pH</th>\n",
              "      <th>Sugar</th>\n",
              "      <th>A</th>\n",
              "      <th>B</th>\n",
              "      <th>C</th>\n",
              "      <th>D</th>\n",
              "      <th>Di</th>\n",
              "      <th>E</th>\n",
              "      <th>H</th>\n",
              "      <th>S</th>\n",
              "      <th>U</th>\n",
              "      <th>V</th>\n",
              "    </tr>\n",
              "  </thead>\n",
              "  <tbody>\n",
              "    <tr>\n",
              "      <th>0</th>\n",
              "      <td>0</td>\n",
              "      <td>1</td>\n",
              "      <td>9.25</td>\n",
              "      <td>1.01</td>\n",
              "      <td>5.72</td>\n",
              "      <td>3.47</td>\n",
              "      <td>2.58</td>\n",
              "      <td>24.5</td>\n",
              "      <td>1.98</td>\n",
              "      <td>5.85</td>\n",
              "      <td>30.8</td>\n",
              "      <td>48.30</td>\n",
              "      <td>1.29</td>\n",
              "      <td>1.49</td>\n",
              "      <td>4.67</td>\n",
              "      <td>4.80</td>\n",
              "      <td>0.06</td>\n",
              "    </tr>\n",
              "    <tr>\n",
              "      <th>1</th>\n",
              "      <td>0</td>\n",
              "      <td>1</td>\n",
              "      <td>7.45</td>\n",
              "      <td>1.02</td>\n",
              "      <td>7.04</td>\n",
              "      <td>3.20</td>\n",
              "      <td>10.76</td>\n",
              "      <td>25.1</td>\n",
              "      <td>1.72</td>\n",
              "      <td>10.20</td>\n",
              "      <td>40.7</td>\n",
              "      <td>55.05</td>\n",
              "      <td>1.05</td>\n",
              "      <td>2.23</td>\n",
              "      <td>2.04</td>\n",
              "      <td>6.35</td>\n",
              "      <td>0.05</td>\n",
              "    </tr>\n",
              "    <tr>\n",
              "      <th>2</th>\n",
              "      <td>0</td>\n",
              "      <td>1</td>\n",
              "      <td>9.10</td>\n",
              "      <td>1.01</td>\n",
              "      <td>11.82</td>\n",
              "      <td>3.30</td>\n",
              "      <td>3.06</td>\n",
              "      <td>23.7</td>\n",
              "      <td>2.90</td>\n",
              "      <td>5.25</td>\n",
              "      <td>9.9</td>\n",
              "      <td>22.11</td>\n",
              "      <td>1.29</td>\n",
              "      <td>1.80</td>\n",
              "      <td>4.53</td>\n",
              "      <td>7.90</td>\n",
              "      <td>0.03</td>\n",
              "    </tr>\n",
              "    <tr>\n",
              "      <th>3</th>\n",
              "      <td>1</td>\n",
              "      <td>0</td>\n",
              "      <td>7.90</td>\n",
              "      <td>1.02</td>\n",
              "      <td>3.96</td>\n",
              "      <td>3.51</td>\n",
              "      <td>2.11</td>\n",
              "      <td>24.9</td>\n",
              "      <td>7.39</td>\n",
              "      <td>1.05</td>\n",
              "      <td>7.7</td>\n",
              "      <td>18.07</td>\n",
              "      <td>1.09</td>\n",
              "      <td>5.64</td>\n",
              "      <td>5.26</td>\n",
              "      <td>0.85</td>\n",
              "      <td>0.38</td>\n",
              "    </tr>\n",
              "    <tr>\n",
              "      <th>4</th>\n",
              "      <td>0</td>\n",
              "      <td>1</td>\n",
              "      <td>7.65</td>\n",
              "      <td>1.02</td>\n",
              "      <td>6.76</td>\n",
              "      <td>3.27</td>\n",
              "      <td>12.65</td>\n",
              "      <td>24.7</td>\n",
              "      <td>2.64</td>\n",
              "      <td>8.10</td>\n",
              "      <td>67.1</td>\n",
              "      <td>85.00</td>\n",
              "      <td>1.26</td>\n",
              "      <td>2.48</td>\n",
              "      <td>3.36</td>\n",
              "      <td>7.83</td>\n",
              "      <td>0.18</td>\n",
              "    </tr>\n",
              "  </tbody>\n",
              "</table>\n",
              "</div>"
            ],
            "text/plain": [
              "   red_wine  white_wine  Alcohol  Density  ...     H     S     U     V\n",
              "0         0           1     9.25     1.01  ...  1.49  4.67  4.80  0.06\n",
              "1         0           1     7.45     1.02  ...  2.23  2.04  6.35  0.05\n",
              "2         0           1     9.10     1.01  ...  1.80  4.53  7.90  0.03\n",
              "3         1           0     7.90     1.02  ...  5.64  5.26  0.85  0.38\n",
              "4         0           1     7.65     1.02  ...  2.48  3.36  7.83  0.18\n",
              "\n",
              "[5 rows x 17 columns]"
            ]
          },
          "metadata": {
            "tags": []
          },
          "execution_count": 114
        }
      ]
    },
    {
      "cell_type": "code",
      "metadata": {
        "id": "CpChuMMO6147",
        "colab_type": "code",
        "colab": {}
      },
      "source": [
        "standart_scaler = preprocessing.StandardScaler()\n",
        "x = df_train.values\n",
        "x_scaled = standart_scaler.fit_transform(x)\n",
        "df = pd.DataFrame(x_scaled)\n",
        "X_train = np.array(df).reshape(len(df),len(df.columns))\n",
        "x = df_test.values\n",
        "x_scaled = standart_scaler.fit_transform(x)\n",
        "df = pd.DataFrame(x_scaled)\n",
        "X_test = np.array(df).reshape(len(df),len(df.columns))"
      ],
      "execution_count": 0,
      "outputs": []
    },
    {
      "cell_type": "code",
      "metadata": {
        "id": "DPZkaFWK615D",
        "colab_type": "code",
        "colab": {}
      },
      "source": [
        "pca = PCA(n_components = 6)"
      ],
      "execution_count": 0,
      "outputs": []
    },
    {
      "cell_type": "code",
      "metadata": {
        "id": "rdEuGMfj615H",
        "colab_type": "code",
        "colab": {}
      },
      "source": [
        "princomp_train = pca.fit_transform(X_train)\n",
        "princomp_test = pca.fit_transform(X_test)"
      ],
      "execution_count": 0,
      "outputs": []
    },
    {
      "cell_type": "code",
      "metadata": {
        "id": "Ohv4Psc9615P",
        "colab_type": "code",
        "colab": {}
      },
      "source": [
        "principalDf_train = pd.DataFrame(data = princomp_train, columns = ['principal component 1', 'principal component 2', 'principal component 3', 'principal component 4', 'principal component 5', 'principal component 6'])\n",
        "principalDf_test = pd.DataFrame(data = princomp_test, columns =['principal component 1', 'principal component 2', 'principal component 3', 'principal component 4', 'principal component 5', 'principal component 6'])"
      ],
      "execution_count": 0,
      "outputs": []
    },
    {
      "cell_type": "code",
      "metadata": {
        "id": "7eojvKw2615S",
        "colab_type": "code",
        "outputId": "9bbe5367-5687-40a8-e419-7b0b42cb8ca1",
        "colab": {
          "base_uri": "https://localhost:8080/",
          "height": 297
        }
      },
      "source": [
        "principalDf_train.describe()"
      ],
      "execution_count": 0,
      "outputs": [
        {
          "output_type": "execute_result",
          "data": {
            "text/html": [
              "<div>\n",
              "<style scoped>\n",
              "    .dataframe tbody tr th:only-of-type {\n",
              "        vertical-align: middle;\n",
              "    }\n",
              "\n",
              "    .dataframe tbody tr th {\n",
              "        vertical-align: top;\n",
              "    }\n",
              "\n",
              "    .dataframe thead th {\n",
              "        text-align: right;\n",
              "    }\n",
              "</style>\n",
              "<table border=\"1\" class=\"dataframe\">\n",
              "  <thead>\n",
              "    <tr style=\"text-align: right;\">\n",
              "      <th></th>\n",
              "      <th>principal component 1</th>\n",
              "      <th>principal component 2</th>\n",
              "      <th>principal component 3</th>\n",
              "      <th>principal component 4</th>\n",
              "      <th>principal component 5</th>\n",
              "      <th>principal component 6</th>\n",
              "    </tr>\n",
              "  </thead>\n",
              "  <tbody>\n",
              "    <tr>\n",
              "      <th>count</th>\n",
              "      <td>5.600000e+03</td>\n",
              "      <td>5.600000e+03</td>\n",
              "      <td>5.600000e+03</td>\n",
              "      <td>5.600000e+03</td>\n",
              "      <td>5.600000e+03</td>\n",
              "      <td>5.600000e+03</td>\n",
              "    </tr>\n",
              "    <tr>\n",
              "      <th>mean</th>\n",
              "      <td>-4.932562e-17</td>\n",
              "      <td>-1.871519e-17</td>\n",
              "      <td>-4.530106e-17</td>\n",
              "      <td>4.929836e-17</td>\n",
              "      <td>3.329492e-17</td>\n",
              "      <td>1.831868e-17</td>\n",
              "    </tr>\n",
              "    <tr>\n",
              "      <th>std</th>\n",
              "      <td>2.289506e+00</td>\n",
              "      <td>1.404488e+00</td>\n",
              "      <td>1.273471e+00</td>\n",
              "      <td>1.071084e+00</td>\n",
              "      <td>1.003039e+00</td>\n",
              "      <td>9.838508e-01</td>\n",
              "    </tr>\n",
              "    <tr>\n",
              "      <th>min</th>\n",
              "      <td>-7.257907e+00</td>\n",
              "      <td>-4.671640e+00</td>\n",
              "      <td>-5.494106e+00</td>\n",
              "      <td>-3.413042e+00</td>\n",
              "      <td>-1.387047e+00</td>\n",
              "      <td>-3.383485e+00</td>\n",
              "    </tr>\n",
              "    <tr>\n",
              "      <th>25%</th>\n",
              "      <td>-8.654801e-01</td>\n",
              "      <td>-9.990793e-01</td>\n",
              "      <td>-8.056906e-01</td>\n",
              "      <td>-7.242795e-01</td>\n",
              "      <td>-2.484583e-01</td>\n",
              "      <td>-6.313310e-01</td>\n",
              "    </tr>\n",
              "    <tr>\n",
              "      <th>50%</th>\n",
              "      <td>6.982829e-01</td>\n",
              "      <td>-1.064330e-01</td>\n",
              "      <td>-8.716316e-03</td>\n",
              "      <td>-7.982277e-03</td>\n",
              "      <td>-4.687805e-02</td>\n",
              "      <td>-1.541028e-01</td>\n",
              "    </tr>\n",
              "    <tr>\n",
              "      <th>75%</th>\n",
              "      <td>1.582608e+00</td>\n",
              "      <td>9.472923e-01</td>\n",
              "      <td>8.457363e-01</td>\n",
              "      <td>6.872926e-01</td>\n",
              "      <td>1.588833e-01</td>\n",
              "      <td>4.589918e-01</td>\n",
              "    </tr>\n",
              "    <tr>\n",
              "      <th>max</th>\n",
              "      <td>1.118819e+01</td>\n",
              "      <td>1.174394e+01</td>\n",
              "      <td>9.964398e+00</td>\n",
              "      <td>9.678337e+00</td>\n",
              "      <td>1.968893e+01</td>\n",
              "      <td>6.175933e+00</td>\n",
              "    </tr>\n",
              "  </tbody>\n",
              "</table>\n",
              "</div>"
            ],
            "text/plain": [
              "       principal component 1  ...  principal component 6\n",
              "count           5.600000e+03  ...           5.600000e+03\n",
              "mean           -4.932562e-17  ...           1.831868e-17\n",
              "std             2.289506e+00  ...           9.838508e-01\n",
              "min            -7.257907e+00  ...          -3.383485e+00\n",
              "25%            -8.654801e-01  ...          -6.313310e-01\n",
              "50%             6.982829e-01  ...          -1.541028e-01\n",
              "75%             1.582608e+00  ...           4.589918e-01\n",
              "max             1.118819e+01  ...           6.175933e+00\n",
              "\n",
              "[8 rows x 6 columns]"
            ]
          },
          "metadata": {
            "tags": []
          },
          "execution_count": 120
        }
      ]
    },
    {
      "cell_type": "code",
      "metadata": {
        "id": "cg9Lx1pK615W",
        "colab_type": "code",
        "outputId": "faea6e40-95c3-4382-9cf4-b9b7f910ecfa",
        "colab": {
          "base_uri": "https://localhost:8080/",
          "height": 297
        }
      },
      "source": [
        "principalDf_test.describe()"
      ],
      "execution_count": 0,
      "outputs": [
        {
          "output_type": "execute_result",
          "data": {
            "text/html": [
              "<div>\n",
              "<style scoped>\n",
              "    .dataframe tbody tr th:only-of-type {\n",
              "        vertical-align: middle;\n",
              "    }\n",
              "\n",
              "    .dataframe tbody tr th {\n",
              "        vertical-align: top;\n",
              "    }\n",
              "\n",
              "    .dataframe thead th {\n",
              "        text-align: right;\n",
              "    }\n",
              "</style>\n",
              "<table border=\"1\" class=\"dataframe\">\n",
              "  <thead>\n",
              "    <tr style=\"text-align: right;\">\n",
              "      <th></th>\n",
              "      <th>principal component 1</th>\n",
              "      <th>principal component 2</th>\n",
              "      <th>principal component 3</th>\n",
              "      <th>principal component 4</th>\n",
              "      <th>principal component 5</th>\n",
              "      <th>principal component 6</th>\n",
              "    </tr>\n",
              "  </thead>\n",
              "  <tbody>\n",
              "    <tr>\n",
              "      <th>count</th>\n",
              "      <td>7.900000e+02</td>\n",
              "      <td>7.900000e+02</td>\n",
              "      <td>7.900000e+02</td>\n",
              "      <td>7.900000e+02</td>\n",
              "      <td>7.900000e+02</td>\n",
              "      <td>7.900000e+02</td>\n",
              "    </tr>\n",
              "    <tr>\n",
              "      <th>mean</th>\n",
              "      <td>-1.337889e-16</td>\n",
              "      <td>-1.006227e-16</td>\n",
              "      <td>4.637640e-18</td>\n",
              "      <td>-2.782584e-17</td>\n",
              "      <td>-2.399628e-17</td>\n",
              "      <td>-3.435411e-17</td>\n",
              "    </tr>\n",
              "    <tr>\n",
              "      <th>std</th>\n",
              "      <td>2.308302e+00</td>\n",
              "      <td>1.564502e+00</td>\n",
              "      <td>1.299786e+00</td>\n",
              "      <td>1.113861e+00</td>\n",
              "      <td>9.887842e-01</td>\n",
              "      <td>9.764656e-01</td>\n",
              "    </tr>\n",
              "    <tr>\n",
              "      <th>min</th>\n",
              "      <td>-4.773639e+00</td>\n",
              "      <td>-4.355209e+00</td>\n",
              "      <td>-3.706346e+00</td>\n",
              "      <td>-3.060961e+00</td>\n",
              "      <td>-3.036164e+00</td>\n",
              "      <td>-3.126383e+00</td>\n",
              "    </tr>\n",
              "    <tr>\n",
              "      <th>25%</th>\n",
              "      <td>-1.611922e+00</td>\n",
              "      <td>-1.361727e+00</td>\n",
              "      <td>-8.319275e-01</td>\n",
              "      <td>-7.937444e-01</td>\n",
              "      <td>-6.770348e-01</td>\n",
              "      <td>-5.873274e-01</td>\n",
              "    </tr>\n",
              "    <tr>\n",
              "      <th>50%</th>\n",
              "      <td>-7.309817e-01</td>\n",
              "      <td>1.680994e-01</td>\n",
              "      <td>-4.023339e-02</td>\n",
              "      <td>-5.592826e-02</td>\n",
              "      <td>-7.888431e-02</td>\n",
              "      <td>4.601159e-02</td>\n",
              "    </tr>\n",
              "    <tr>\n",
              "      <th>75%</th>\n",
              "      <td>1.425035e+00</td>\n",
              "      <td>1.175917e+00</td>\n",
              "      <td>7.387064e-01</td>\n",
              "      <td>7.333403e-01</td>\n",
              "      <td>5.605126e-01</td>\n",
              "      <td>6.206691e-01</td>\n",
              "    </tr>\n",
              "    <tr>\n",
              "      <th>max</th>\n",
              "      <td>6.320431e+00</td>\n",
              "      <td>5.776725e+00</td>\n",
              "      <td>5.154362e+00</td>\n",
              "      <td>5.839455e+00</td>\n",
              "      <td>4.588531e+00</td>\n",
              "      <td>5.481795e+00</td>\n",
              "    </tr>\n",
              "  </tbody>\n",
              "</table>\n",
              "</div>"
            ],
            "text/plain": [
              "       principal component 1  ...  principal component 6\n",
              "count           7.900000e+02  ...           7.900000e+02\n",
              "mean           -1.337889e-16  ...          -3.435411e-17\n",
              "std             2.308302e+00  ...           9.764656e-01\n",
              "min            -4.773639e+00  ...          -3.126383e+00\n",
              "25%            -1.611922e+00  ...          -5.873274e-01\n",
              "50%            -7.309817e-01  ...           4.601159e-02\n",
              "75%             1.425035e+00  ...           6.206691e-01\n",
              "max             6.320431e+00  ...           5.481795e+00\n",
              "\n",
              "[8 rows x 6 columns]"
            ]
          },
          "metadata": {
            "tags": []
          },
          "execution_count": 121
        }
      ]
    },
    {
      "cell_type": "code",
      "metadata": {
        "id": "Ged_S-a9615Z",
        "colab_type": "code",
        "colab": {}
      },
      "source": [
        "X_train = np.array(principalDf_train).astype('float32').T\n",
        "X_test = np.array(principalDf_test).astype('float32').T"
      ],
      "execution_count": 0,
      "outputs": []
    },
    {
      "cell_type": "code",
      "metadata": {
        "id": "izj39jecNFYE",
        "colab_type": "code",
        "outputId": "da8dc9a6-f0a2-4c38-af49-aa779ab49e30",
        "colab": {
          "base_uri": "https://localhost:8080/",
          "height": 34
        }
      },
      "source": [
        "X_train.shape"
      ],
      "execution_count": 0,
      "outputs": [
        {
          "output_type": "execute_result",
          "data": {
            "text/plain": [
              "(6, 5600)"
            ]
          },
          "metadata": {
            "tags": []
          },
          "execution_count": 123
        }
      ]
    },
    {
      "cell_type": "code",
      "metadata": {
        "id": "nTY_U7FwNIVr",
        "colab_type": "code",
        "outputId": "9b3199ad-619b-4151-e4ea-3dbb3685aacb",
        "colab": {
          "base_uri": "https://localhost:8080/",
          "height": 34
        }
      },
      "source": [
        "Y_train.shape"
      ],
      "execution_count": 0,
      "outputs": [
        {
          "output_type": "execute_result",
          "data": {
            "text/plain": [
              "(5600,)"
            ]
          },
          "metadata": {
            "tags": []
          },
          "execution_count": 124
        }
      ]
    },
    {
      "cell_type": "code",
      "metadata": {
        "id": "r9HsYVsy615c",
        "colab_type": "code",
        "colab": {}
      },
      "source": [
        "def create_placeholders(n_x,n_y):\n",
        "  X = tf.placeholder(tf.float32,[n_x,None], name = \"X\")\n",
        "  Y = tf.placeholder(tf.float32,[n_y,None], name = \"Y\")\n",
        "  return X,Y"
      ],
      "execution_count": 0,
      "outputs": []
    },
    {
      "cell_type": "code",
      "metadata": {
        "id": "T0rcShLB615g",
        "colab_type": "code",
        "colab": {}
      },
      "source": [
        "def initialize_params(n_x):\n",
        "  W = tf.get_variable(\"W\", [6, n_x], initializer = tf.random_normal_initializer(seed = 1))\n",
        "  b = tf.get_variable(\"b\", [6,1], initializer = tf.zeros_initializer())\n",
        "  params = {\"W\":W, \"b\":b}\n",
        "  return params"
      ],
      "execution_count": 0,
      "outputs": []
    },
    {
      "cell_type": "code",
      "metadata": {
        "id": "bXfPYph1615m",
        "colab_type": "code",
        "colab": {}
      },
      "source": [
        "def forward_prop(X, params):\n",
        "  W = params['W']\n",
        "  b = params[\"b\"]\n",
        "  Z = tf.add(tf.matmul(W,X), b)\n",
        "  return Z"
      ],
      "execution_count": 0,
      "outputs": []
    },
    {
      "cell_type": "code",
      "metadata": {
        "id": "KC1VJfk7L4wr",
        "colab_type": "code",
        "colab": {}
      },
      "source": [
        "def to_one_hot(Y, C):\n",
        "  C = tf.constant(C)\n",
        "  one_hot_matrix = tf.one_hot(Y, depth=C, axis = 0)\n",
        "  with tf.Session() as sess:\n",
        "    one_hot = sess.run(one_hot_matrix)\n",
        "  return one_hot"
      ],
      "execution_count": 0,
      "outputs": []
    },
    {
      "cell_type": "code",
      "metadata": {
        "id": "8WCtRrqgNtjy",
        "colab_type": "code",
        "colab": {}
      },
      "source": [
        "def cost_function(Z,Y, beta1, beta2, params):\n",
        "  logits = tf.transpose(Z)\n",
        "  labels = tf.transpose(Y)\n",
        "  cost = tf.reduce_mean(tf.nn.softmax_cross_entropy_with_logits(logits=logits, labels=labels))\n",
        "  regulizer = params['W']\n",
        "  cost = tf.reduce_mean(cost + beta1 * tf.reduce_sum(tf.abs(regulizer)))\n",
        "  regulizer = tf.nn.l2_loss(params['W'])\n",
        "  cost = tf.reduce_mean(cost + beta2 * regulizer)\n",
        "  return cost"
      ],
      "execution_count": 0,
      "outputs": []
    },
    {
      "cell_type": "code",
      "metadata": {
        "id": "lYuk02x62knd",
        "colab_type": "code",
        "colab": {}
      },
      "source": [
        "def predict(X, params):\n",
        "  Z = forward_prop(X, params)\n",
        "  return Z"
      ],
      "execution_count": 0,
      "outputs": []
    },
    {
      "cell_type": "code",
      "metadata": {
        "id": "2fQrAfIIOHNK",
        "colab_type": "code",
        "colab": {}
      },
      "source": [
        "def merge_model(X_train,Y_train, X_test, learning_rate, num_iterations, beta1, beta2):\n",
        "  tf.reset_default_graph()\n",
        "  Y_train = to_one_hot(Y_train, 6)\n",
        "  (n_x, m) = X_train.shape\n",
        "  n_y = Y_train.shape[0]\n",
        "  X,Y = create_placeholders(n_x,n_y)\n",
        "  costs = []\n",
        "  iters = []\n",
        "  params = initialize_params(n_x)\n",
        "  Z = forward_prop(X, params)\n",
        "  cost = cost_function(Z,Y, beta1, beta2, params)\n",
        "  optimizer = tf.train.AdamOptimizer(learning_rate = learning_rate).minimize(cost)\n",
        "  init = tf.global_variables_initializer()\n",
        "  with tf.Session() as sess:\n",
        "    sess.run(init)\n",
        "    for iter in range(num_iterations+1):\n",
        "      _ , cc = sess.run([optimizer, cost], feed_dict={X: X_train, Y: Y_train})\n",
        "      if iter%100 == 0:\n",
        "        costs.append(cc)\n",
        "        iters.append(iter)\n",
        "        print(cc)    \n",
        "    prediction_train = tf.argmax(forward_prop(X_train, params))\n",
        "    preds = prediction_train.eval()\n",
        "    #prediction_test = tf.argmax(forward_prop(X_test, params))\n",
        "    #preds_test = prediction_test.eval()\n",
        "    #accuracy = tf.reduce_mean(tf.cast(correct_prediction, \"float\"))\n",
        "    #print(correct_prediction)\n",
        "    #print(prediction_train.eval())    \n",
        "  return params, preds, preds_test"
      ],
      "execution_count": 0,
      "outputs": []
    },
    {
      "cell_type": "code",
      "metadata": {
        "id": "judGtOUqOLAd",
        "colab_type": "code",
        "colab": {}
      },
      "source": [
        "params, predicts, preds_test = merge_model(X_train,Y_train, X_test, 0.5, 1000, 0.05)"
      ],
      "execution_count": 0,
      "outputs": []
    },
    {
      "cell_type": "code",
      "metadata": {
        "id": "yZUcaaqySobZ",
        "colab_type": "code",
        "outputId": "7f3baa3c-6cb9-44d1-d0f3-8ebc981346e7",
        "colab": {
          "base_uri": "https://localhost:8080/",
          "height": 34
        }
      },
      "source": [
        "print(predicts.max())"
      ],
      "execution_count": 0,
      "outputs": [
        {
          "output_type": "stream",
          "text": [
            "4\n"
          ],
          "name": "stdout"
        }
      ]
    },
    {
      "cell_type": "code",
      "metadata": {
        "id": "5ps6VOom54Uv",
        "colab_type": "code",
        "outputId": "ea552db1-14ef-4685-abe0-98dbd64ea953",
        "colab": {
          "base_uri": "https://localhost:8080/",
          "height": 629
        }
      },
      "source": [
        "preds_test"
      ],
      "execution_count": 0,
      "outputs": [
        {
          "output_type": "execute_result",
          "data": {
            "text/plain": [
              "array([4, 3, 4, 4, 3, 4, 3, 3, 4, 4, 4, 3, 3, 4, 3, 4, 4, 4, 4, 3, 3, 3,\n",
              "       3, 4, 4, 4, 4, 4, 4, 4, 4, 3, 4, 3, 4, 3, 3, 4, 4, 3, 4, 4, 5, 4,\n",
              "       4, 4, 4, 4, 4, 4, 4, 4, 4, 3, 4, 4, 4, 3, 3, 4, 4, 4, 4, 3, 4, 4,\n",
              "       4, 4, 3, 4, 4, 4, 4, 4, 4, 4, 4, 3, 4, 4, 4, 4, 4, 4, 4, 4, 4, 3,\n",
              "       3, 3, 4, 4, 4, 3, 3, 4, 4, 3, 3, 4, 3, 3, 4, 4, 3, 4, 4, 3, 4, 4,\n",
              "       4, 4, 3, 4, 4, 4, 4, 4, 4, 4, 4, 3, 4, 3, 4, 4, 4, 3, 3, 4, 4, 4,\n",
              "       4, 4, 4, 4, 4, 4, 4, 4, 3, 3, 4, 4, 4, 4, 4, 3, 3, 4, 3, 3, 3, 5,\n",
              "       4, 4, 4, 3, 5, 4, 3, 4, 4, 3, 4, 4, 4, 3, 4, 4, 3, 4, 3, 3, 4, 4,\n",
              "       3, 3, 3, 4, 4, 4, 3, 3, 4, 4, 4, 3, 4, 4, 4, 3, 4, 4, 3, 3, 3, 4,\n",
              "       4, 4, 3, 4, 4, 4, 4, 4, 4, 4, 4, 4, 4, 4, 4, 3, 4, 4, 3, 4, 4, 4,\n",
              "       4, 4, 4, 4, 4, 3, 4, 4, 4, 4, 4, 3, 4, 3, 4, 4, 4, 4, 4, 4, 3, 4,\n",
              "       3, 4, 3, 4, 4, 4, 3, 3, 4, 4, 4, 3, 3, 4, 4, 4, 4, 3, 4, 3, 3, 4,\n",
              "       4, 3, 5, 3, 3, 4, 4, 3, 4, 4, 4, 3, 3, 3, 4, 3, 4, 3, 4, 4, 4, 4,\n",
              "       3, 4, 3, 3, 4, 4, 4, 4, 4, 4, 4, 4, 4, 3, 4, 3, 4, 4, 4, 4, 3, 4,\n",
              "       4, 3, 4, 4, 4, 4, 4, 3, 4, 4, 4, 4, 4, 4, 4, 4, 4, 4, 4, 4, 4, 4,\n",
              "       4, 4, 4, 3, 4, 4, 3, 3, 4, 4, 4, 4, 5, 4, 3, 3, 3, 4, 3, 4, 4, 4,\n",
              "       4, 4, 4, 4, 3, 4, 3, 3, 4, 4, 3, 3, 4, 4, 4, 4, 3, 3, 3, 4, 4, 3,\n",
              "       3, 4, 3, 4, 4, 4, 4, 4, 4, 4, 4, 4, 3, 3, 4, 4, 3, 4, 3, 4, 4, 3,\n",
              "       4, 4, 3, 4, 3, 3, 3, 3, 4, 4, 4, 4, 3, 3, 4, 4, 4, 4, 4, 4, 4, 4,\n",
              "       4, 3, 4, 4, 4, 4, 4, 4, 4, 4, 4, 4, 4, 5, 4, 3, 4, 4, 4, 4, 3, 3,\n",
              "       5, 3, 4, 3, 4, 4, 4, 4, 4, 4, 3, 3, 4, 4, 3, 4, 3, 3, 4, 3, 4, 4,\n",
              "       4, 4, 4, 4, 4, 4, 4, 3, 4, 4, 4, 4, 4, 3, 4, 4, 3, 3, 4, 4, 4, 3,\n",
              "       3, 4, 3, 3, 4, 4, 4, 4, 4, 4, 3, 4, 4, 4, 4, 4, 4, 4, 4, 3, 4, 4,\n",
              "       4, 3, 4, 4, 4, 3, 3, 3, 4, 4, 3, 3, 4, 4, 4, 3, 4, 4, 4, 4, 3, 4,\n",
              "       3, 3, 3, 3, 4, 4, 4, 4, 3, 4, 4, 4, 5, 3, 4, 4, 4, 4, 3, 3, 3, 3,\n",
              "       4, 4, 5, 4, 4, 4, 4, 3, 3, 4, 4, 4, 4, 3, 3, 4, 4, 4, 4, 3, 4, 5,\n",
              "       4, 3, 4, 3, 4, 3, 4, 4, 3, 4, 3, 4, 4, 3, 4, 4, 4, 4, 4, 3, 3, 3,\n",
              "       4, 4, 3, 4, 4, 4, 4, 4, 4, 4, 4, 4, 4, 4, 3, 4, 4, 4, 3, 4, 4, 4,\n",
              "       4, 4, 3, 4, 3, 4, 4, 4, 4, 4, 3, 4, 3, 4, 4, 4, 4, 3, 4, 3, 4, 4,\n",
              "       4, 3, 4, 5, 3, 3, 3, 3, 3, 3, 4, 3, 4, 4, 4, 4, 4, 4, 3, 4, 3, 3,\n",
              "       4, 4, 4, 3, 4, 4, 4, 4, 4, 4, 3, 4, 4, 4, 4, 4, 4, 3, 4, 3, 3, 3,\n",
              "       3, 4, 3, 3, 4, 3, 3, 4, 4, 4, 4, 4, 4, 4, 4, 4, 4, 3, 4, 3, 4, 3,\n",
              "       4, 4, 5, 3, 4, 3, 5, 4, 3, 4, 3, 4, 3, 4, 4, 4, 4, 4, 4, 4, 3, 4,\n",
              "       4, 4, 3, 4, 4, 4, 4, 4, 3, 3, 4, 3, 4, 4, 4, 4, 4, 4, 4, 4, 4, 4,\n",
              "       4, 4, 4, 4, 4, 4, 4, 4, 4, 4, 4, 3, 3, 4, 4, 4, 4, 4, 4, 4, 4, 4,\n",
              "       3, 4, 3, 4, 4, 4, 4, 4, 4, 4, 4, 4, 4, 4, 4, 4, 4, 3, 3, 3])"
            ]
          },
          "metadata": {
            "tags": []
          },
          "execution_count": 156
        }
      ]
    },
    {
      "cell_type": "code",
      "metadata": {
        "id": "kr2XpDDf7FoX",
        "colab_type": "code",
        "outputId": "5bcad368-6504-4732-8e65-76afce4da773",
        "colab": {
          "base_uri": "https://localhost:8080/",
          "height": 119
        }
      },
      "source": [
        "confusion_matrix(Y_train, predicts)"
      ],
      "execution_count": 0,
      "outputs": [
        {
          "output_type": "execute_result",
          "data": {
            "text/plain": [
              "array([[   0,    0,   11,   14,    0,    0],\n",
              "       [   0,    0,   73,  106,    4,    0],\n",
              "       [   0,    0,  895,  960,    3,    0],\n",
              "       [   0,    0,  599, 1812,   34,    0],\n",
              "       [   0,    0,   92,  811,   28,    0],\n",
              "       [   0,    0,   15,  137,    6,    0]])"
            ]
          },
          "metadata": {
            "tags": []
          },
          "execution_count": 157
        }
      ]
    },
    {
      "cell_type": "code",
      "metadata": {
        "id": "pB0OawhRP3oS",
        "colab_type": "code",
        "colab": {}
      },
      "source": [
        "concatenated_df = pd.read_csv('/content/Conc.csv')"
      ],
      "execution_count": 0,
      "outputs": []
    },
    {
      "cell_type": "code",
      "metadata": {
        "id": "G0PBagylfu2u",
        "colab_type": "code",
        "colab": {}
      },
      "source": [
        "concatenated_df.drop('Unnamed: 0', axis = 1, inplace = True)"
      ],
      "execution_count": 0,
      "outputs": []
    },
    {
      "cell_type": "code",
      "metadata": {
        "id": "nnX9wQ_xfv3P",
        "colab_type": "code",
        "outputId": "395f606b-705b-40de-ca8e-16961452e11d",
        "colab": {
          "base_uri": "https://localhost:8080/",
          "height": 34
        }
      },
      "source": [
        "X_conc = np.array(concatenated_df).astype('float32').T\n",
        "X_conc.shape"
      ],
      "execution_count": 0,
      "outputs": [
        {
          "output_type": "execute_result",
          "data": {
            "text/plain": [
              "(9, 5600)"
            ]
          },
          "metadata": {
            "tags": []
          },
          "execution_count": 268
        }
      ]
    },
    {
      "cell_type": "code",
      "metadata": {
        "id": "KMgYx42zgBL6",
        "colab_type": "code",
        "outputId": "9eb175f4-d886-49a3-c1e4-ca7b547f68df",
        "colab": {
          "base_uri": "https://localhost:8080/",
          "height": 289
        }
      },
      "source": [
        "params, predicts, preds_test = merge_model(X_conc,Y_train, X_test, 0.01, 1500, 0.0001, 0.00005)"
      ],
      "execution_count": 0,
      "outputs": [
        {
          "output_type": "stream",
          "text": [
            "4.090156\n",
            "1.3280565\n",
            "1.0712249\n",
            "1.0328194\n",
            "1.0197091\n",
            "1.013657\n",
            "1.0105535\n",
            "1.008938\n",
            "1.0081701\n",
            "1.0079085\n",
            "1.0079846\n",
            "1.0083228\n",
            "1.0088911\n",
            "1.0096437\n",
            "1.0105681\n",
            "1.0116433\n"
          ],
          "name": "stdout"
        }
      ]
    },
    {
      "cell_type": "code",
      "metadata": {
        "id": "YcuuwjaogREB",
        "colab_type": "code",
        "outputId": "f3d4aa88-8a3b-49cb-e670-c9a153cd44b6",
        "colab": {
          "base_uri": "https://localhost:8080/",
          "height": 119
        }
      },
      "source": [
        "confusion_matrix(Y_train, predicts)"
      ],
      "execution_count": 0,
      "outputs": [
        {
          "output_type": "execute_result",
          "data": {
            "text/plain": [
              "array([[   0,    0,   11,   13,    1,    0],\n",
              "       [   0,    0,   94,   87,    2,    0],\n",
              "       [   0,    0, 1037,  808,   13,    0],\n",
              "       [   0,    0,  612, 1723,  110,    0],\n",
              "       [   0,    1,   85,  717,  128,    0],\n",
              "       [   0,    0,   18,  104,   36,    0]])"
            ]
          },
          "metadata": {
            "tags": []
          },
          "execution_count": 172
        }
      ]
    },
    {
      "cell_type": "code",
      "metadata": {
        "id": "D8mpLBGygnFZ",
        "colab_type": "code",
        "outputId": "4046b84d-70ba-4e6d-c7f3-5c1d01d622ab",
        "colab": {
          "base_uri": "https://localhost:8080/",
          "height": 119
        }
      },
      "source": [
        "confusion_matrix(Y_train, predicts)"
      ],
      "execution_count": 0,
      "outputs": [
        {
          "output_type": "execute_result",
          "data": {
            "text/plain": [
              "array([[   1,    0,   13,   10,    1,    0],\n",
              "       [   0,    4,   90,   87,    2,    0],\n",
              "       [   0,    1, 1097,  747,   13,    0],\n",
              "       [   0,    0,  646, 1657,  142,    0],\n",
              "       [   0,    0,   93,  675,  163,    0],\n",
              "       [   0,    0,   18,   96,   44,    0]])"
            ]
          },
          "metadata": {
            "tags": []
          },
          "execution_count": 220
        }
      ]
    },
    {
      "cell_type": "code",
      "metadata": {
        "id": "6kKBi51Ag2Iw",
        "colab_type": "code",
        "outputId": "ab55a278-875f-4995-8c4a-040bd5520fc2",
        "colab": {
          "base_uri": "https://localhost:8080/",
          "height": 119
        }
      },
      "source": [
        "confusion_matrix(Y_train, predicts)"
      ],
      "execution_count": 0,
      "outputs": [
        {
          "output_type": "execute_result",
          "data": {
            "text/plain": [
              "array([[   0,    0,   11,   13,    1,    0],\n",
              "       [   0,    2,   87,   92,    2,    0],\n",
              "       [   0,    1, 1078,  767,   12,    0],\n",
              "       [   0,    0,  681, 1628,  136,    0],\n",
              "       [   0,    0,  101,  670,  160,    0],\n",
              "       [   0,    0,   18,   86,   54,    0]])"
            ]
          },
          "metadata": {
            "tags": []
          },
          "execution_count": 270
        }
      ]
    },
    {
      "cell_type": "code",
      "metadata": {
        "id": "hSp2zR9Jsed2",
        "colab_type": "code",
        "outputId": "ff8cd99c-e3e5-43c9-a62d-268ea743f71e",
        "colab": {
          "base_uri": "https://localhost:8080/",
          "height": 34
        }
      },
      "source": [
        "f1_score(Y_train, predicts, average = 'weighted')"
      ],
      "execution_count": 0,
      "outputs": [
        {
          "output_type": "execute_result",
          "data": {
            "text/plain": [
              "0.47768603442044205"
            ]
          },
          "metadata": {
            "tags": []
          },
          "execution_count": 271
        }
      ]
    },
    {
      "cell_type": "code",
      "metadata": {
        "id": "fwThcenYs4ls",
        "colab_type": "code",
        "outputId": "484092d9-4f44-4be8-bccc-fd56c427a167",
        "colab": {
          "base_uri": "https://localhost:8080/",
          "height": 88
        }
      },
      "source": [
        "precision_score(Y_train, predicts, average = 'weighted')"
      ],
      "execution_count": 0,
      "outputs": [
        {
          "output_type": "stream",
          "text": [
            "/usr/local/lib/python3.6/dist-packages/sklearn/metrics/_classification.py:1272: UndefinedMetricWarning: Precision is ill-defined and being set to 0.0 in labels with no predicted samples. Use `zero_division` parameter to control this behavior.\n",
            "  _warn_prf(average, modifier, msg_start, len(result))\n"
          ],
          "name": "stderr"
        },
        {
          "output_type": "execute_result",
          "data": {
            "text/plain": [
              "0.4939705526989233"
            ]
          },
          "metadata": {
            "tags": []
          },
          "execution_count": 272
        }
      ]
    },
    {
      "cell_type": "code",
      "metadata": {
        "id": "qzfCeXM0s9EY",
        "colab_type": "code",
        "outputId": "ff586eae-8c31-4bf8-e1b2-113888493ef7",
        "colab": {
          "base_uri": "https://localhost:8080/",
          "height": 34
        }
      },
      "source": [
        "recall_score(Y_train, predicts, average = 'weighted')"
      ],
      "execution_count": 0,
      "outputs": [
        {
          "output_type": "execute_result",
          "data": {
            "text/plain": [
              "0.5121428571428571"
            ]
          },
          "metadata": {
            "tags": []
          },
          "execution_count": 273
        }
      ]
    },
    {
      "cell_type": "code",
      "metadata": {
        "id": "iwd6VZRctEV_",
        "colab_type": "code",
        "colab": {}
      },
      "source": [
        ""
      ],
      "execution_count": 0,
      "outputs": []
    }
  ]
}