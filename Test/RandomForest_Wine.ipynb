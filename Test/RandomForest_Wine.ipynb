{
  "nbformat": 4,
  "nbformat_minor": 0,
  "metadata": {
    "kernelspec": {
      "display_name": "Python 3",
      "language": "python",
      "name": "python3"
    },
    "language_info": {
      "codemirror_mode": {
        "name": "ipython",
        "version": 3
      },
      "file_extension": ".py",
      "mimetype": "text/x-python",
      "name": "python",
      "nbconvert_exporter": "python",
      "pygments_lexer": "ipython3",
      "version": "3.7.0"
    },
    "colab": {
      "name": "RandomForest_Wine.ipynb",
      "provenance": []
    }
  },
  "cells": [
    {
      "cell_type": "code",
      "metadata": {
        "id": "P1S3qgykWJua",
        "colab_type": "code",
        "colab": {}
      },
      "source": [
        "import numpy as np\n",
        "import pandas as pd\n",
        "import matplotlib.pyplot as plt\n",
        "from sklearn import preprocessing\n",
        "from scipy import stats\n",
        "from sklearn.ensemble import RandomForestClassifier\n",
        "from sklearn.metrics import accuracy_score, confusion_matrix, f1_score, precision_score, recall_score\n",
        "# import needed libraries"
      ],
      "execution_count": 0,
      "outputs": []
    },
    {
      "cell_type": "code",
      "metadata": {
        "id": "DrBLeiAhWJus",
        "colab_type": "code",
        "colab": {}
      },
      "source": [
        "df_train = pd.read_csv('WINE.csv')\n",
        "df_test = pd.read_csv('TEST.csv')\n",
        "# Download Train and test sets from CSV file"
      ],
      "execution_count": 0,
      "outputs": []
    },
    {
      "cell_type": "code",
      "metadata": {
        "id": "GiflfulKWJu3",
        "colab_type": "code",
        "colab": {}
      },
      "source": [
        "df_train.drop('Index', axis = 1, inplace = True)\n",
        "df_test.drop('Index', axis = 1, inplace = True)\n",
        "# Drop 'Index' column from train and test sets"
      ],
      "execution_count": 0,
      "outputs": []
    },
    {
      "cell_type": "code",
      "metadata": {
        "id": "S0w0zO8HWJvB",
        "colab_type": "code",
        "colab": {}
      },
      "source": [
        "Y = np.array(df_train['Target'].astype('int32')).reshape(len(df_train['Target']),1)\n",
        "# Create an array of labels ('Target' column) and make two-dimensional array"
      ],
      "execution_count": 0,
      "outputs": []
    },
    {
      "cell_type": "code",
      "metadata": {
        "id": "aohkN89JWJvM",
        "colab_type": "code",
        "colab": {},
        "outputId": "9fce689d-3b24-4ab7-b672-04d243523ba5"
      },
      "source": [
        "df_train['Target'].value_counts().plot.bar(legend=True)\n",
        "# Plot target bar plot to check how classes are distributed"
      ],
      "execution_count": 0,
      "outputs": [
        {
          "output_type": "execute_result",
          "data": {
            "text/plain": [
              "<matplotlib.axes._subplots.AxesSubplot at 0x105c3cd0>"
            ]
          },
          "metadata": {
            "tags": []
          },
          "execution_count": 20
        },
        {
          "output_type": "display_data",
          "data": {
            "image/png": "[encoded data removed]",
            "text/plain": [
              "<Figure size 432x288 with 1 Axes>"
            ]
          },
          "metadata": {
            "tags": [],
            "needs_background": "light"
          }
        }
      ]
    },
    {
      "cell_type": "code",
      "metadata": {
        "id": "jwGDHhGZWJvZ",
        "colab_type": "code",
        "colab": {},
        "outputId": "bf978323-5de6-4274-85c5-e833e65794e9"
      },
      "source": [
        "df_train.isna().sum()\n",
        "# Check Nan values in train set"
      ],
      "execution_count": 0,
      "outputs": [
        {
          "output_type": "execute_result",
          "data": {
            "text/plain": [
              "Target       0\n",
              "Type         0\n",
              "Alcohol      0\n",
              "Density      0\n",
              "Nitrogen     0\n",
              "pH           0\n",
              "Sugar        0\n",
              "A           33\n",
              "B            0\n",
              "C            0\n",
              "D            0\n",
              "Di           0\n",
              "E            0\n",
              "H           16\n",
              "S            0\n",
              "U            0\n",
              "V            0\n",
              "dtype: int64"
            ]
          },
          "metadata": {
            "tags": []
          },
          "execution_count": 21
        }
      ]
    },
    {
      "cell_type": "code",
      "metadata": {
        "id": "UTH_Fbk7WJvk",
        "colab_type": "code",
        "colab": {}
      },
      "source": [
        "df_train.loc[df_train['A'].isna(),'A'] = df_train['A'].mean()\n",
        "df_train.loc[df_train['H'].isna(),'H'] = df_train['H'].mean()\n",
        "# Fill empty NaN positions with mean value in correspondning columns"
      ],
      "execution_count": 0,
      "outputs": []
    },
    {
      "cell_type": "code",
      "metadata": {
        "id": "GWihEdj-WJvs",
        "colab_type": "code",
        "colab": {},
        "outputId": "d0f903b6-6a21-479c-ddd8-a1d5b45ca21a"
      },
      "source": [
        "df_test.isna().sum()\n",
        "# Check Nan values in test set. Any Nan values found"
      ],
      "execution_count": 0,
      "outputs": [
        {
          "output_type": "execute_result",
          "data": {
            "text/plain": [
              "Type        0\n",
              "Alcohol     0\n",
              "Density     0\n",
              "Nitrogen    0\n",
              "pH          0\n",
              "Sugar       0\n",
              "A           0\n",
              "B           0\n",
              "C           0\n",
              "D           0\n",
              "Di          0\n",
              "E           0\n",
              "H           0\n",
              "S           0\n",
              "U           0\n",
              "V           0\n",
              "dtype: int64"
            ]
          },
          "metadata": {
            "tags": []
          },
          "execution_count": 23
        }
      ]
    },
    {
      "cell_type": "code",
      "metadata": {
        "id": "X398x1x4WJvy",
        "colab_type": "code",
        "colab": {}
      },
      "source": [
        "df_train1 = pd.get_dummies(df_train['Type'])\n",
        "df1_test = pd.get_dummies(df_test['Type'])\n",
        "df_train.insert(loc = 1, column = 'red_wine', value = df_train1['red_wine'])\n",
        "df_train.insert(loc = 2, column = 'white_wine', value = df_train1['white_wine'])\n",
        "df_test.insert(loc = 1, column = 'red_wine', value = df1_test['red_wine'])\n",
        "df_test.insert(loc = 2, column = 'white_wine', value = df1_test['white_wine'])\n",
        "df_test.drop('Type', axis = 1, inplace = True)\n",
        "df_train.drop('Type', axis = 1, inplace = True)\n",
        "# Replace type columns in train and test sets with one-hot encoding"
      ],
      "execution_count": 0,
      "outputs": []
    },
    {
      "cell_type": "code",
      "metadata": {
        "id": "1zmXLQ6wWJv4",
        "colab_type": "code",
        "colab": {},
        "outputId": "b552dbde-d49b-45a6-8f4a-6e6e590968ac"
      },
      "source": [
        "for i in df_train.columns:\n",
        "    print(stats.normaltest(df_train[i]), i)\n",
        "# Check columns in train and test sets for normal distribution. P-value is less 0.05, so zero hepothesis\n",
        "# that data are distributed normally is rejected"
      ],
      "execution_count": 0,
      "outputs": [
        {
          "output_type": "stream",
          "text": [
            "NormaltestResult(statistic=29.368644201807314, pvalue=4.1944975116155016e-07) Target\n",
            "NormaltestResult(statistic=1026.7483398086156, pvalue=1.1077221983350797e-223) red_wine\n",
            "NormaltestResult(statistic=1026.7483398086163, pvalue=1.1077221983347008e-223) white_wine\n",
            "NormaltestResult(statistic=374.7227013706308, pvalue=4.265788071012327e-82) Alcohol\n",
            "NormaltestResult(statistic=12195.926086728006, pvalue=0.0) Density\n",
            "NormaltestResult(statistic=1682.939433367956, pvalue=0.0) Nitrogen\n",
            "NormaltestResult(statistic=151.5256927768978, pvalue=1.2491479518269623e-33) pH\n",
            "NormaltestResult(statistic=1737.4618007161766, pvalue=0.0) Sugar\n",
            "NormaltestResult(statistic=2003.294658433871, pvalue=0.0) A\n",
            "NormaltestResult(statistic=1416.56449475042, pvalue=2.494183115449629e-308) B\n",
            "NormaltestResult(statistic=512.285781221163, pvalue=5.735298538436625e-112) C\n",
            "NormaltestResult(statistic=1880.4115994556896, pvalue=0.0) D\n",
            "NormaltestResult(statistic=1566.4043804804849, pvalue=0.0) Di\n",
            "NormaltestResult(statistic=3.687395125793578, pvalue=0.15823127302155657) E\n",
            "NormaltestResult(statistic=5858.621565006634, pvalue=0.0) H\n",
            "NormaltestResult(statistic=2493.4216494490906, pvalue=0.0) S\n",
            "NormaltestResult(statistic=38.461907165453134, pvalue=4.4473670824979175e-09) U\n",
            "NormaltestResult(statistic=336.29204540643, pvalue=9.44300426883595e-74) V\n"
          ],
          "name": "stdout"
        }
      ]
    },
    {
      "cell_type": "code",
      "metadata": {
        "id": "WsrPMalNWJv-",
        "colab_type": "code",
        "colab": {},
        "outputId": "0c726730-5f96-41ce-af4f-8cc1e2e7ba10"
      },
      "source": [
        "for i in df_test.columns:\n",
        "    print(stats.normaltest(df_test[i]), i)"
      ],
      "execution_count": 0,
      "outputs": [
        {
          "output_type": "stream",
          "text": [
            "NormaltestResult(statistic=155.03695197791052, pvalue=2.158507850109449e-34) red_wine\n",
            "NormaltestResult(statistic=155.0369519779105, pvalue=2.15850785010948e-34) white_wine\n",
            "NormaltestResult(statistic=64.34014292329005, pvalue=1.0683547414170053e-14) Alcohol\n",
            "NormaltestResult(statistic=11408.961465076765, pvalue=0.0) Density\n",
            "NormaltestResult(statistic=260.18567491827133, pvalue=3.172477541693559e-57) Nitrogen\n",
            "NormaltestResult(statistic=15.561108699832898, pvalue=0.000417780513813447) pH\n",
            "NormaltestResult(statistic=133.73942555941593, pvalue=9.096047787463891e-30) Sugar\n",
            "NormaltestResult(statistic=316.87610800515847, pvalue=1.553200147762974e-69) A\n",
            "NormaltestResult(statistic=313.02652316373525, pvalue=1.0645207966754948e-68) B\n",
            "NormaltestResult(statistic=62.57062932960966, pvalue=2.5879773822033622e-14) C\n",
            "NormaltestResult(statistic=81.77816029805467, pvalue=1.746216635202754e-18) D\n",
            "NormaltestResult(statistic=74.46356536100456, pvalue=6.767717632021057e-17) Di\n",
            "NormaltestResult(statistic=3.3606660802701205, pvalue=0.1863119163600137) E\n",
            "NormaltestResult(statistic=996.3945873573657, pvalue=4.321797920712492e-217) H\n",
            "NormaltestResult(statistic=209.81183193111394, pvalue=2.753845537601561e-46) S\n",
            "NormaltestResult(statistic=29.795221077025978, pvalue=3.3888312991704053e-07) U\n",
            "NormaltestResult(statistic=56.436239824827666, pvalue=5.55937836140316e-13) V\n"
          ],
          "name": "stdout"
        }
      ]
    },
    {
      "cell_type": "code",
      "metadata": {
        "id": "eztLJjZ8WJwD",
        "colab_type": "code",
        "colab": {},
        "outputId": "b910b72a-474b-49ed-da34-fa9fd03d7139"
      },
      "source": [
        "df_train.describe()"
      ],
      "execution_count": 0,
      "outputs": [
        {
          "output_type": "execute_result",
          "data": {
            "text/html": [
              "<div>\n",
              "<style scoped>\n",
              "    .dataframe tbody tr th:only-of-type {\n",
              "        vertical-align: middle;\n",
              "    }\n",
              "\n",
              "    .dataframe tbody tr th {\n",
              "        vertical-align: top;\n",
              "    }\n",
              "\n",
              "    .dataframe thead th {\n",
              "        text-align: right;\n",
              "    }\n",
              "</style>\n",
              "<table border=\"1\" class=\"dataframe\">\n",
              "  <thead>\n",
              "    <tr style=\"text-align: right;\">\n",
              "      <th></th>\n",
              "      <th>Target</th>\n",
              "      <th>red_wine</th>\n",
              "      <th>white_wine</th>\n",
              "      <th>Alcohol</th>\n",
              "      <th>Density</th>\n",
              "      <th>Nitrogen</th>\n",
              "      <th>pH</th>\n",
              "      <th>Sugar</th>\n",
              "      <th>A</th>\n",
              "      <th>B</th>\n",
              "      <th>C</th>\n",
              "      <th>D</th>\n",
              "      <th>Di</th>\n",
              "      <th>E</th>\n",
              "      <th>H</th>\n",
              "      <th>S</th>\n",
              "      <th>U</th>\n",
              "      <th>V</th>\n",
              "    </tr>\n",
              "  </thead>\n",
              "  <tbody>\n",
              "    <tr>\n",
              "      <th>count</th>\n",
              "      <td>5600.000000</td>\n",
              "      <td>5600.000000</td>\n",
              "      <td>5600.000000</td>\n",
              "      <td>5600.000000</td>\n",
              "      <td>5600.000000</td>\n",
              "      <td>5600.000000</td>\n",
              "      <td>5600.000000</td>\n",
              "      <td>5600.00000</td>\n",
              "      <td>5600.000000</td>\n",
              "      <td>5600.000000</td>\n",
              "      <td>5600.000000</td>\n",
              "      <td>5600.000000</td>\n",
              "      <td>5600.000000</td>\n",
              "      <td>5600.000000</td>\n",
              "      <td>5600.000000</td>\n",
              "      <td>5600.000000</td>\n",
              "      <td>5600.000000</td>\n",
              "      <td>5600.000000</td>\n",
              "    </tr>\n",
              "    <tr>\n",
              "      <th>mean</th>\n",
              "      <td>3.812143</td>\n",
              "      <td>0.245000</td>\n",
              "      <td>0.755000</td>\n",
              "      <td>8.337791</td>\n",
              "      <td>1.039718</td>\n",
              "      <td>5.250179</td>\n",
              "      <td>3.427979</td>\n",
              "      <td>5.59803</td>\n",
              "      <td>24.539752</td>\n",
              "      <td>3.421562</td>\n",
              "      <td>4.776455</td>\n",
              "      <td>32.608714</td>\n",
              "      <td>43.709220</td>\n",
              "      <td>1.366580</td>\n",
              "      <td>2.909697</td>\n",
              "      <td>4.544402</td>\n",
              "      <td>5.516623</td>\n",
              "      <td>0.145773</td>\n",
              "    </tr>\n",
              "    <tr>\n",
              "      <th>std</th>\n",
              "      <td>0.864077</td>\n",
              "      <td>0.430126</td>\n",
              "      <td>0.430126</td>\n",
              "      <td>0.591844</td>\n",
              "      <td>0.457331</td>\n",
              "      <td>3.698764</td>\n",
              "      <td>0.165377</td>\n",
              "      <td>4.54153</td>\n",
              "      <td>2.565825</td>\n",
              "      <td>2.155710</td>\n",
              "      <td>2.170485</td>\n",
              "      <td>19.532201</td>\n",
              "      <td>20.156748</td>\n",
              "      <td>0.349658</td>\n",
              "      <td>2.118601</td>\n",
              "      <td>2.174807</td>\n",
              "      <td>2.820828</td>\n",
              "      <td>0.094536</td>\n",
              "    </tr>\n",
              "    <tr>\n",
              "      <th>min</th>\n",
              "      <td>1.000000</td>\n",
              "      <td>0.000000</td>\n",
              "      <td>0.000000</td>\n",
              "      <td>7.100000</td>\n",
              "      <td>1.010000</td>\n",
              "      <td>0.000000</td>\n",
              "      <td>2.910000</td>\n",
              "      <td>0.97000</td>\n",
              "      <td>17.700000</td>\n",
              "      <td>0.000000</td>\n",
              "      <td>0.000000</td>\n",
              "      <td>0.000000</td>\n",
              "      <td>0.000000</td>\n",
              "      <td>0.000000</td>\n",
              "      <td>0.000000</td>\n",
              "      <td>0.000000</td>\n",
              "      <td>0.000000</td>\n",
              "      <td>0.000000</td>\n",
              "    </tr>\n",
              "    <tr>\n",
              "      <th>25%</th>\n",
              "      <td>3.000000</td>\n",
              "      <td>0.000000</td>\n",
              "      <td>1.000000</td>\n",
              "      <td>7.850000</td>\n",
              "      <td>1.010000</td>\n",
              "      <td>2.740000</td>\n",
              "      <td>3.320000</td>\n",
              "      <td>2.11000</td>\n",
              "      <td>22.900000</td>\n",
              "      <td>1.980000</td>\n",
              "      <td>3.750000</td>\n",
              "      <td>17.600000</td>\n",
              "      <td>28.780000</td>\n",
              "      <td>1.130000</td>\n",
              "      <td>1.800000</td>\n",
              "      <td>3.070000</td>\n",
              "      <td>3.650000</td>\n",
              "      <td>0.070000</td>\n",
              "    </tr>\n",
              "    <tr>\n",
              "      <th>50%</th>\n",
              "      <td>4.000000</td>\n",
              "      <td>0.000000</td>\n",
              "      <td>1.000000</td>\n",
              "      <td>8.250000</td>\n",
              "      <td>1.020000</td>\n",
              "      <td>4.450000</td>\n",
              "      <td>3.420000</td>\n",
              "      <td>3.25000</td>\n",
              "      <td>24.100000</td>\n",
              "      <td>2.770000</td>\n",
              "      <td>4.650000</td>\n",
              "      <td>30.800000</td>\n",
              "      <td>41.695000</td>\n",
              "      <td>1.360000</td>\n",
              "      <td>2.360000</td>\n",
              "      <td>4.230000</td>\n",
              "      <td>5.650000</td>\n",
              "      <td>0.140000</td>\n",
              "    </tr>\n",
              "    <tr>\n",
              "      <th>75%</th>\n",
              "      <td>4.000000</td>\n",
              "      <td>0.000000</td>\n",
              "      <td>1.000000</td>\n",
              "      <td>8.750000</td>\n",
              "      <td>1.020000</td>\n",
              "      <td>6.860000</td>\n",
              "      <td>3.530000</td>\n",
              "      <td>8.19000</td>\n",
              "      <td>25.500000</td>\n",
              "      <td>4.220000</td>\n",
              "      <td>5.850000</td>\n",
              "      <td>45.100000</td>\n",
              "      <td>56.120000</td>\n",
              "      <td>1.600000</td>\n",
              "      <td>3.470000</td>\n",
              "      <td>5.550000</td>\n",
              "      <td>7.500000</td>\n",
              "      <td>0.210000</td>\n",
              "    </tr>\n",
              "    <tr>\n",
              "      <th>max</th>\n",
              "      <td>6.000000</td>\n",
              "      <td>1.000000</td>\n",
              "      <td>1.000000</td>\n",
              "      <td>10.550000</td>\n",
              "      <td>10.210000</td>\n",
              "      <td>30.720000</td>\n",
              "      <td>4.240000</td>\n",
              "      <td>62.91000</td>\n",
              "      <td>41.900000</td>\n",
              "      <td>16.500000</td>\n",
              "      <td>24.900000</td>\n",
              "      <td>316.800000</td>\n",
              "      <td>318.220000</td>\n",
              "      <td>2.600000</td>\n",
              "      <td>37.260000</td>\n",
              "      <td>25.990000</td>\n",
              "      <td>21.700000</td>\n",
              "      <td>0.520000</td>\n",
              "    </tr>\n",
              "  </tbody>\n",
              "</table>\n",
              "</div>"
            ],
            "text/plain": [
              "            Target     red_wine   white_wine      Alcohol      Density  \\\n",
              "count  5600.000000  5600.000000  5600.000000  5600.000000  5600.000000   \n",
              "mean      3.812143     0.245000     0.755000     8.337791     1.039718   \n",
              "std       0.864077     0.430126     0.430126     0.591844     0.457331   \n",
              "min       1.000000     0.000000     0.000000     7.100000     1.010000   \n",
              "25%       3.000000     0.000000     1.000000     7.850000     1.010000   \n",
              "50%       4.000000     0.000000     1.000000     8.250000     1.020000   \n",
              "75%       4.000000     0.000000     1.000000     8.750000     1.020000   \n",
              "max       6.000000     1.000000     1.000000    10.550000    10.210000   \n",
              "\n",
              "          Nitrogen           pH       Sugar            A            B  \\\n",
              "count  5600.000000  5600.000000  5600.00000  5600.000000  5600.000000   \n",
              "mean      5.250179     3.427979     5.59803    24.539752     3.421562   \n",
              "std       3.698764     0.165377     4.54153     2.565825     2.155710   \n",
              "min       0.000000     2.910000     0.97000    17.700000     0.000000   \n",
              "25%       2.740000     3.320000     2.11000    22.900000     1.980000   \n",
              "50%       4.450000     3.420000     3.25000    24.100000     2.770000   \n",
              "75%       6.860000     3.530000     8.19000    25.500000     4.220000   \n",
              "max      30.720000     4.240000    62.91000    41.900000    16.500000   \n",
              "\n",
              "                 C            D           Di            E            H  \\\n",
              "count  5600.000000  5600.000000  5600.000000  5600.000000  5600.000000   \n",
              "mean      4.776455    32.608714    43.709220     1.366580     2.909697   \n",
              "std       2.170485    19.532201    20.156748     0.349658     2.118601   \n",
              "min       0.000000     0.000000     0.000000     0.000000     0.000000   \n",
              "25%       3.750000    17.600000    28.780000     1.130000     1.800000   \n",
              "50%       4.650000    30.800000    41.695000     1.360000     2.360000   \n",
              "75%       5.850000    45.100000    56.120000     1.600000     3.470000   \n",
              "max      24.900000   316.800000   318.220000     2.600000    37.260000   \n",
              "\n",
              "                 S            U            V  \n",
              "count  5600.000000  5600.000000  5600.000000  \n",
              "mean      4.544402     5.516623     0.145773  \n",
              "std       2.174807     2.820828     0.094536  \n",
              "min       0.000000     0.000000     0.000000  \n",
              "25%       3.070000     3.650000     0.070000  \n",
              "50%       4.230000     5.650000     0.140000  \n",
              "75%       5.550000     7.500000     0.210000  \n",
              "max      25.990000    21.700000     0.520000  "
            ]
          },
          "metadata": {
            "tags": []
          },
          "execution_count": 27
        }
      ]
    },
    {
      "cell_type": "code",
      "metadata": {
        "id": "ehq3l456WJwI",
        "colab_type": "code",
        "colab": {},
        "outputId": "296f17f1-9e3d-45e1-d285-1509a983be5b"
      },
      "source": [
        "df_train.corr(method='pearson')\n",
        "# Check correlation coeffitients through all columns\n",
        "# The major impact on target has 'Alcohol' column. D, Di and U columns have strong linear correlation between each other,\n",
        "# what can reduce model performance"
      ],
      "execution_count": 0,
      "outputs": [
        {
          "output_type": "execute_result",
          "data": {
            "text/html": [
              "<div>\n",
              "<style scoped>\n",
              "    .dataframe tbody tr th:only-of-type {\n",
              "        vertical-align: middle;\n",
              "    }\n",
              "\n",
              "    .dataframe tbody tr th {\n",
              "        vertical-align: top;\n",
              "    }\n",
              "\n",
              "    .dataframe thead th {\n",
              "        text-align: right;\n",
              "    }\n",
              "</style>\n",
              "<table border=\"1\" class=\"dataframe\">\n",
              "  <thead>\n",
              "    <tr style=\"text-align: right;\">\n",
              "      <th></th>\n",
              "      <th>Target</th>\n",
              "      <th>red_wine</th>\n",
              "      <th>white_wine</th>\n",
              "      <th>Alcohol</th>\n",
              "      <th>Density</th>\n",
              "      <th>Nitrogen</th>\n",
              "      <th>pH</th>\n",
              "      <th>Sugar</th>\n",
              "      <th>A</th>\n",
              "      <th>B</th>\n",
              "      <th>C</th>\n",
              "      <th>D</th>\n",
              "      <th>Di</th>\n",
              "      <th>E</th>\n",
              "      <th>H</th>\n",
              "      <th>S</th>\n",
              "      <th>U</th>\n",
              "      <th>V</th>\n",
              "    </tr>\n",
              "  </thead>\n",
              "  <tbody>\n",
              "    <tr>\n",
              "      <th>Target</th>\n",
              "      <td>1.000000</td>\n",
              "      <td>-0.123147</td>\n",
              "      <td>0.123147</td>\n",
              "      <td>0.443372</td>\n",
              "      <td>-0.017056</td>\n",
              "      <td>-0.020498</td>\n",
              "      <td>0.014953</td>\n",
              "      <td>-0.034612</td>\n",
              "      <td>-0.084444</td>\n",
              "      <td>-0.265365</td>\n",
              "      <td>0.080364</td>\n",
              "      <td>0.053842</td>\n",
              "      <td>0.052710</td>\n",
              "      <td>0.088247</td>\n",
              "      <td>-0.205618</td>\n",
              "      <td>0.032989</td>\n",
              "      <td>-0.044035</td>\n",
              "      <td>-0.024634</td>\n",
              "    </tr>\n",
              "    <tr>\n",
              "      <th>red_wine</th>\n",
              "      <td>-0.123147</td>\n",
              "      <td>1.000000</td>\n",
              "      <td>-1.000000</td>\n",
              "      <td>-0.034553</td>\n",
              "      <td>0.008459</td>\n",
              "      <td>0.175261</td>\n",
              "      <td>0.325614</td>\n",
              "      <td>-0.349697</td>\n",
              "      <td>0.484169</td>\n",
              "      <td>0.653131</td>\n",
              "      <td>-0.195298</td>\n",
              "      <td>-0.471614</td>\n",
              "      <td>-0.462824</td>\n",
              "      <td>-0.019165</td>\n",
              "      <td>0.513071</td>\n",
              "      <td>0.487297</td>\n",
              "      <td>-0.700452</td>\n",
              "      <td>0.370052</td>\n",
              "    </tr>\n",
              "    <tr>\n",
              "      <th>white_wine</th>\n",
              "      <td>0.123147</td>\n",
              "      <td>-1.000000</td>\n",
              "      <td>1.000000</td>\n",
              "      <td>0.034553</td>\n",
              "      <td>-0.008459</td>\n",
              "      <td>-0.175261</td>\n",
              "      <td>-0.325614</td>\n",
              "      <td>0.349697</td>\n",
              "      <td>-0.484169</td>\n",
              "      <td>-0.653131</td>\n",
              "      <td>0.195298</td>\n",
              "      <td>0.471614</td>\n",
              "      <td>0.462824</td>\n",
              "      <td>0.019165</td>\n",
              "      <td>-0.513071</td>\n",
              "      <td>-0.487297</td>\n",
              "      <td>0.700452</td>\n",
              "      <td>-0.370052</td>\n",
              "    </tr>\n",
              "    <tr>\n",
              "      <th>Alcohol</th>\n",
              "      <td>0.443372</td>\n",
              "      <td>-0.034553</td>\n",
              "      <td>0.034553</td>\n",
              "      <td>1.000000</td>\n",
              "      <td>-0.019559</td>\n",
              "      <td>-0.008110</td>\n",
              "      <td>0.125924</td>\n",
              "      <td>-0.360521</td>\n",
              "      <td>-0.101905</td>\n",
              "      <td>-0.038538</td>\n",
              "      <td>-0.017319</td>\n",
              "      <td>-0.179620</td>\n",
              "      <td>-0.174336</td>\n",
              "      <td>0.201134</td>\n",
              "      <td>-0.262074</td>\n",
              "      <td>-0.011120</td>\n",
              "      <td>-0.267743</td>\n",
              "      <td>0.009329</td>\n",
              "    </tr>\n",
              "    <tr>\n",
              "      <th>Density</th>\n",
              "      <td>-0.017056</td>\n",
              "      <td>0.008459</td>\n",
              "      <td>-0.008459</td>\n",
              "      <td>-0.019559</td>\n",
              "      <td>1.000000</td>\n",
              "      <td>-0.001917</td>\n",
              "      <td>0.009931</td>\n",
              "      <td>-0.005672</td>\n",
              "      <td>0.016158</td>\n",
              "      <td>0.014526</td>\n",
              "      <td>-0.009562</td>\n",
              "      <td>0.001530</td>\n",
              "      <td>-0.000986</td>\n",
              "      <td>-0.016213</td>\n",
              "      <td>0.013588</td>\n",
              "      <td>0.026676</td>\n",
              "      <td>0.000286</td>\n",
              "      <td>-0.005096</td>\n",
              "    </tr>\n",
              "    <tr>\n",
              "      <th>Nitrogen</th>\n",
              "      <td>-0.020498</td>\n",
              "      <td>0.175261</td>\n",
              "      <td>-0.175261</td>\n",
              "      <td>-0.008110</td>\n",
              "      <td>-0.001917</td>\n",
              "      <td>1.000000</td>\n",
              "      <td>0.063437</td>\n",
              "      <td>-0.075847</td>\n",
              "      <td>0.074519</td>\n",
              "      <td>0.117277</td>\n",
              "      <td>-0.026745</td>\n",
              "      <td>-0.063867</td>\n",
              "      <td>-0.065866</td>\n",
              "      <td>-0.009196</td>\n",
              "      <td>0.088266</td>\n",
              "      <td>0.081730</td>\n",
              "      <td>-0.117913</td>\n",
              "      <td>0.087117</td>\n",
              "    </tr>\n",
              "    <tr>\n",
              "      <th>pH</th>\n",
              "      <td>0.014953</td>\n",
              "      <td>0.325614</td>\n",
              "      <td>-0.325614</td>\n",
              "      <td>0.125924</td>\n",
              "      <td>0.009931</td>\n",
              "      <td>0.063437</td>\n",
              "      <td>1.000000</td>\n",
              "      <td>-0.262740</td>\n",
              "      <td>-0.256022</td>\n",
              "      <td>0.257674</td>\n",
              "      <td>-0.324859</td>\n",
              "      <td>-0.140378</td>\n",
              "      <td>-0.139621</td>\n",
              "      <td>0.019622</td>\n",
              "      <td>0.042332</td>\n",
              "      <td>0.193295</td>\n",
              "      <td>-0.235120</td>\n",
              "      <td>0.106297</td>\n",
              "    </tr>\n",
              "    <tr>\n",
              "      <th>Sugar</th>\n",
              "      <td>-0.034612</td>\n",
              "      <td>-0.349697</td>\n",
              "      <td>0.349697</td>\n",
              "      <td>-0.360521</td>\n",
              "      <td>-0.005672</td>\n",
              "      <td>-0.075847</td>\n",
              "      <td>-0.262740</td>\n",
              "      <td>1.000000</td>\n",
              "      <td>-0.113493</td>\n",
              "      <td>-0.194583</td>\n",
              "      <td>0.144319</td>\n",
              "      <td>0.399013</td>\n",
              "      <td>0.390314</td>\n",
              "      <td>-0.053191</td>\n",
              "      <td>-0.127706</td>\n",
              "      <td>-0.180735</td>\n",
              "      <td>0.496935</td>\n",
              "      <td>-0.127088</td>\n",
              "    </tr>\n",
              "    <tr>\n",
              "      <th>A</th>\n",
              "      <td>-0.084444</td>\n",
              "      <td>0.484169</td>\n",
              "      <td>-0.484169</td>\n",
              "      <td>-0.101905</td>\n",
              "      <td>0.016158</td>\n",
              "      <td>0.074519</td>\n",
              "      <td>-0.256022</td>\n",
              "      <td>-0.113493</td>\n",
              "      <td>1.000000</td>\n",
              "      <td>0.212403</td>\n",
              "      <td>0.316021</td>\n",
              "      <td>-0.289150</td>\n",
              "      <td>-0.281068</td>\n",
              "      <td>-0.013496</td>\n",
              "      <td>0.304334</td>\n",
              "      <td>0.301134</td>\n",
              "      <td>-0.329623</td>\n",
              "      <td>0.185817</td>\n",
              "    </tr>\n",
              "    <tr>\n",
              "      <th>B</th>\n",
              "      <td>-0.265365</td>\n",
              "      <td>0.653131</td>\n",
              "      <td>-0.653131</td>\n",
              "      <td>-0.038538</td>\n",
              "      <td>0.014526</td>\n",
              "      <td>0.117277</td>\n",
              "      <td>0.257674</td>\n",
              "      <td>-0.194583</td>\n",
              "      <td>0.212403</td>\n",
              "      <td>1.000000</td>\n",
              "      <td>-0.383300</td>\n",
              "      <td>-0.348472</td>\n",
              "      <td>-0.341040</td>\n",
              "      <td>0.005629</td>\n",
              "      <td>0.383161</td>\n",
              "      <td>0.231478</td>\n",
              "      <td>-0.407143</td>\n",
              "      <td>0.242766</td>\n",
              "    </tr>\n",
              "    <tr>\n",
              "      <th>C</th>\n",
              "      <td>0.080364</td>\n",
              "      <td>-0.195298</td>\n",
              "      <td>0.195298</td>\n",
              "      <td>-0.017319</td>\n",
              "      <td>-0.009562</td>\n",
              "      <td>-0.026745</td>\n",
              "      <td>-0.324859</td>\n",
              "      <td>0.144319</td>\n",
              "      <td>0.316021</td>\n",
              "      <td>-0.383300</td>\n",
              "      <td>1.000000</td>\n",
              "      <td>0.135184</td>\n",
              "      <td>0.135830</td>\n",
              "      <td>0.014416</td>\n",
              "      <td>0.035950</td>\n",
              "      <td>0.048989</td>\n",
              "      <td>0.196664</td>\n",
              "      <td>-0.065274</td>\n",
              "    </tr>\n",
              "    <tr>\n",
              "      <th>D</th>\n",
              "      <td>0.053842</td>\n",
              "      <td>-0.471614</td>\n",
              "      <td>0.471614</td>\n",
              "      <td>-0.179620</td>\n",
              "      <td>0.001530</td>\n",
              "      <td>-0.063867</td>\n",
              "      <td>-0.140378</td>\n",
              "      <td>0.399013</td>\n",
              "      <td>-0.289150</td>\n",
              "      <td>-0.348472</td>\n",
              "      <td>0.135184</td>\n",
              "      <td>1.000000</td>\n",
              "      <td>0.969609</td>\n",
              "      <td>-0.026073</td>\n",
              "      <td>-0.192125</td>\n",
              "      <td>-0.184072</td>\n",
              "      <td>0.721877</td>\n",
              "      <td>-0.156623</td>\n",
              "    </tr>\n",
              "    <tr>\n",
              "      <th>Di</th>\n",
              "      <td>0.052710</td>\n",
              "      <td>-0.462824</td>\n",
              "      <td>0.462824</td>\n",
              "      <td>-0.174336</td>\n",
              "      <td>-0.000986</td>\n",
              "      <td>-0.065866</td>\n",
              "      <td>-0.139621</td>\n",
              "      <td>0.390314</td>\n",
              "      <td>-0.281068</td>\n",
              "      <td>-0.341040</td>\n",
              "      <td>0.135830</td>\n",
              "      <td>0.969609</td>\n",
              "      <td>1.000000</td>\n",
              "      <td>-0.027264</td>\n",
              "      <td>-0.190377</td>\n",
              "      <td>-0.185425</td>\n",
              "      <td>0.704187</td>\n",
              "      <td>-0.157090</td>\n",
              "    </tr>\n",
              "    <tr>\n",
              "      <th>E</th>\n",
              "      <td>0.088247</td>\n",
              "      <td>-0.019165</td>\n",
              "      <td>0.019165</td>\n",
              "      <td>0.201134</td>\n",
              "      <td>-0.016213</td>\n",
              "      <td>-0.009196</td>\n",
              "      <td>0.019622</td>\n",
              "      <td>-0.053191</td>\n",
              "      <td>-0.013496</td>\n",
              "      <td>0.005629</td>\n",
              "      <td>0.014416</td>\n",
              "      <td>-0.026073</td>\n",
              "      <td>-0.027264</td>\n",
              "      <td>1.000000</td>\n",
              "      <td>-0.041455</td>\n",
              "      <td>-0.013118</td>\n",
              "      <td>-0.025494</td>\n",
              "      <td>0.004475</td>\n",
              "    </tr>\n",
              "    <tr>\n",
              "      <th>H</th>\n",
              "      <td>-0.205618</td>\n",
              "      <td>0.513071</td>\n",
              "      <td>-0.513071</td>\n",
              "      <td>-0.262074</td>\n",
              "      <td>0.013588</td>\n",
              "      <td>0.088266</td>\n",
              "      <td>0.042332</td>\n",
              "      <td>-0.127706</td>\n",
              "      <td>0.304334</td>\n",
              "      <td>0.383161</td>\n",
              "      <td>0.035950</td>\n",
              "      <td>-0.192125</td>\n",
              "      <td>-0.190377</td>\n",
              "      <td>-0.041455</td>\n",
              "      <td>1.000000</td>\n",
              "      <td>0.393608</td>\n",
              "      <td>-0.274676</td>\n",
              "      <td>0.174092</td>\n",
              "    </tr>\n",
              "    <tr>\n",
              "      <th>S</th>\n",
              "      <td>0.032989</td>\n",
              "      <td>0.487297</td>\n",
              "      <td>-0.487297</td>\n",
              "      <td>-0.011120</td>\n",
              "      <td>0.026676</td>\n",
              "      <td>0.081730</td>\n",
              "      <td>0.193295</td>\n",
              "      <td>-0.180735</td>\n",
              "      <td>0.301134</td>\n",
              "      <td>0.231478</td>\n",
              "      <td>0.048989</td>\n",
              "      <td>-0.184072</td>\n",
              "      <td>-0.185425</td>\n",
              "      <td>-0.013118</td>\n",
              "      <td>0.393608</td>\n",
              "      <td>1.000000</td>\n",
              "      <td>-0.275015</td>\n",
              "      <td>0.180574</td>\n",
              "    </tr>\n",
              "    <tr>\n",
              "      <th>U</th>\n",
              "      <td>-0.044035</td>\n",
              "      <td>-0.700452</td>\n",
              "      <td>0.700452</td>\n",
              "      <td>-0.267743</td>\n",
              "      <td>0.000286</td>\n",
              "      <td>-0.117913</td>\n",
              "      <td>-0.235120</td>\n",
              "      <td>0.496935</td>\n",
              "      <td>-0.329623</td>\n",
              "      <td>-0.407143</td>\n",
              "      <td>0.196664</td>\n",
              "      <td>0.721877</td>\n",
              "      <td>0.704187</td>\n",
              "      <td>-0.025494</td>\n",
              "      <td>-0.274676</td>\n",
              "      <td>-0.275015</td>\n",
              "      <td>1.000000</td>\n",
              "      <td>-0.251796</td>\n",
              "    </tr>\n",
              "    <tr>\n",
              "      <th>V</th>\n",
              "      <td>-0.024634</td>\n",
              "      <td>0.370052</td>\n",
              "      <td>-0.370052</td>\n",
              "      <td>0.009329</td>\n",
              "      <td>-0.005096</td>\n",
              "      <td>0.087117</td>\n",
              "      <td>0.106297</td>\n",
              "      <td>-0.127088</td>\n",
              "      <td>0.185817</td>\n",
              "      <td>0.242766</td>\n",
              "      <td>-0.065274</td>\n",
              "      <td>-0.156623</td>\n",
              "      <td>-0.157090</td>\n",
              "      <td>0.004475</td>\n",
              "      <td>0.174092</td>\n",
              "      <td>0.180574</td>\n",
              "      <td>-0.251796</td>\n",
              "      <td>1.000000</td>\n",
              "    </tr>\n",
              "  </tbody>\n",
              "</table>\n",
              "</div>"
            ],
            "text/plain": [
              "              Target  red_wine  white_wine   Alcohol   Density  Nitrogen  \\\n",
              "Target      1.000000 -0.123147    0.123147  0.443372 -0.017056 -0.020498   \n",
              "red_wine   -0.123147  1.000000   -1.000000 -0.034553  0.008459  0.175261   \n",
              "white_wine  0.123147 -1.000000    1.000000  0.034553 -0.008459 -0.175261   \n",
              "Alcohol     0.443372 -0.034553    0.034553  1.000000 -0.019559 -0.008110   \n",
              "Density    -0.017056  0.008459   -0.008459 -0.019559  1.000000 -0.001917   \n",
              "Nitrogen   -0.020498  0.175261   -0.175261 -0.008110 -0.001917  1.000000   \n",
              "pH          0.014953  0.325614   -0.325614  0.125924  0.009931  0.063437   \n",
              "Sugar      -0.034612 -0.349697    0.349697 -0.360521 -0.005672 -0.075847   \n",
              "A          -0.084444  0.484169   -0.484169 -0.101905  0.016158  0.074519   \n",
              "B          -0.265365  0.653131   -0.653131 -0.038538  0.014526  0.117277   \n",
              "C           0.080364 -0.195298    0.195298 -0.017319 -0.009562 -0.026745   \n",
              "D           0.053842 -0.471614    0.471614 -0.179620  0.001530 -0.063867   \n",
              "Di          0.052710 -0.462824    0.462824 -0.174336 -0.000986 -0.065866   \n",
              "E           0.088247 -0.019165    0.019165  0.201134 -0.016213 -0.009196   \n",
              "H          -0.205618  0.513071   -0.513071 -0.262074  0.013588  0.088266   \n",
              "S           0.032989  0.487297   -0.487297 -0.011120  0.026676  0.081730   \n",
              "U          -0.044035 -0.700452    0.700452 -0.267743  0.000286 -0.117913   \n",
              "V          -0.024634  0.370052   -0.370052  0.009329 -0.005096  0.087117   \n",
              "\n",
              "                  pH     Sugar         A         B         C         D  \\\n",
              "Target      0.014953 -0.034612 -0.084444 -0.265365  0.080364  0.053842   \n",
              "red_wine    0.325614 -0.349697  0.484169  0.653131 -0.195298 -0.471614   \n",
              "white_wine -0.325614  0.349697 -0.484169 -0.653131  0.195298  0.471614   \n",
              "Alcohol     0.125924 -0.360521 -0.101905 -0.038538 -0.017319 -0.179620   \n",
              "Density     0.009931 -0.005672  0.016158  0.014526 -0.009562  0.001530   \n",
              "Nitrogen    0.063437 -0.075847  0.074519  0.117277 -0.026745 -0.063867   \n",
              "pH          1.000000 -0.262740 -0.256022  0.257674 -0.324859 -0.140378   \n",
              "Sugar      -0.262740  1.000000 -0.113493 -0.194583  0.144319  0.399013   \n",
              "A          -0.256022 -0.113493  1.000000  0.212403  0.316021 -0.289150   \n",
              "B           0.257674 -0.194583  0.212403  1.000000 -0.383300 -0.348472   \n",
              "C          -0.324859  0.144319  0.316021 -0.383300  1.000000  0.135184   \n",
              "D          -0.140378  0.399013 -0.289150 -0.348472  0.135184  1.000000   \n",
              "Di         -0.139621  0.390314 -0.281068 -0.341040  0.135830  0.969609   \n",
              "E           0.019622 -0.053191 -0.013496  0.005629  0.014416 -0.026073   \n",
              "H           0.042332 -0.127706  0.304334  0.383161  0.035950 -0.192125   \n",
              "S           0.193295 -0.180735  0.301134  0.231478  0.048989 -0.184072   \n",
              "U          -0.235120  0.496935 -0.329623 -0.407143  0.196664  0.721877   \n",
              "V           0.106297 -0.127088  0.185817  0.242766 -0.065274 -0.156623   \n",
              "\n",
              "                  Di         E         H         S         U         V  \n",
              "Target      0.052710  0.088247 -0.205618  0.032989 -0.044035 -0.024634  \n",
              "red_wine   -0.462824 -0.019165  0.513071  0.487297 -0.700452  0.370052  \n",
              "white_wine  0.462824  0.019165 -0.513071 -0.487297  0.700452 -0.370052  \n",
              "Alcohol    -0.174336  0.201134 -0.262074 -0.011120 -0.267743  0.009329  \n",
              "Density    -0.000986 -0.016213  0.013588  0.026676  0.000286 -0.005096  \n",
              "Nitrogen   -0.065866 -0.009196  0.088266  0.081730 -0.117913  0.087117  \n",
              "pH         -0.139621  0.019622  0.042332  0.193295 -0.235120  0.106297  \n",
              "Sugar       0.390314 -0.053191 -0.127706 -0.180735  0.496935 -0.127088  \n",
              "A          -0.281068 -0.013496  0.304334  0.301134 -0.329623  0.185817  \n",
              "B          -0.341040  0.005629  0.383161  0.231478 -0.407143  0.242766  \n",
              "C           0.135830  0.014416  0.035950  0.048989  0.196664 -0.065274  \n",
              "D           0.969609 -0.026073 -0.192125 -0.184072  0.721877 -0.156623  \n",
              "Di          1.000000 -0.027264 -0.190377 -0.185425  0.704187 -0.157090  \n",
              "E          -0.027264  1.000000 -0.041455 -0.013118 -0.025494  0.004475  \n",
              "H          -0.190377 -0.041455  1.000000  0.393608 -0.274676  0.174092  \n",
              "S          -0.185425 -0.013118  0.393608  1.000000 -0.275015  0.180574  \n",
              "U           0.704187 -0.025494 -0.274676 -0.275015  1.000000 -0.251796  \n",
              "V          -0.157090  0.004475  0.174092  0.180574 -0.251796  1.000000  "
            ]
          },
          "metadata": {
            "tags": []
          },
          "execution_count": 28
        }
      ]
    },
    {
      "cell_type": "code",
      "metadata": {
        "id": "FN3elDwOWJwM",
        "colab_type": "code",
        "colab": {}
      },
      "source": [
        "df_train.drop(['Target', 'Di', 'U'], axis = 1, inplace = True)\n",
        "df_test.drop(['Di', 'U'], axis = 1, inplace = True)\n",
        "# Drop correlated columns from data set. 'D' column has the most impact on 'Target', so drop two other columns"
      ],
      "execution_count": 0,
      "outputs": []
    },
    {
      "cell_type": "code",
      "metadata": {
        "id": "oQWiHKuXWJwR",
        "colab_type": "code",
        "colab": {},
        "outputId": "0a7e314b-25d8-4937-9a84-763de5677cc0"
      },
      "source": [
        "df_test.corr(method='pearson')"
      ],
      "execution_count": 0,
      "outputs": [
        {
          "output_type": "execute_result",
          "data": {
            "text/html": [
              "<div>\n",
              "<style scoped>\n",
              "    .dataframe tbody tr th:only-of-type {\n",
              "        vertical-align: middle;\n",
              "    }\n",
              "\n",
              "    .dataframe tbody tr th {\n",
              "        vertical-align: top;\n",
              "    }\n",
              "\n",
              "    .dataframe thead th {\n",
              "        text-align: right;\n",
              "    }\n",
              "</style>\n",
              "<table border=\"1\" class=\"dataframe\">\n",
              "  <thead>\n",
              "    <tr style=\"text-align: right;\">\n",
              "      <th></th>\n",
              "      <th>red_wine</th>\n",
              "      <th>white_wine</th>\n",
              "      <th>Alcohol</th>\n",
              "      <th>Density</th>\n",
              "      <th>Nitrogen</th>\n",
              "      <th>pH</th>\n",
              "      <th>Sugar</th>\n",
              "      <th>A</th>\n",
              "      <th>B</th>\n",
              "      <th>C</th>\n",
              "      <th>D</th>\n",
              "      <th>E</th>\n",
              "      <th>H</th>\n",
              "      <th>S</th>\n",
              "      <th>V</th>\n",
              "    </tr>\n",
              "  </thead>\n",
              "  <tbody>\n",
              "    <tr>\n",
              "      <th>red_wine</th>\n",
              "      <td>1.000000</td>\n",
              "      <td>-1.000000</td>\n",
              "      <td>-0.019480</td>\n",
              "      <td>0.400383</td>\n",
              "      <td>0.164315</td>\n",
              "      <td>0.343726</td>\n",
              "      <td>-0.346787</td>\n",
              "      <td>0.496501</td>\n",
              "      <td>0.648491</td>\n",
              "      <td>-0.159942</td>\n",
              "      <td>-0.457614</td>\n",
              "      <td>0.008131</td>\n",
              "      <td>0.500513</td>\n",
              "      <td>0.484182</td>\n",
              "      <td>0.397485</td>\n",
              "    </tr>\n",
              "    <tr>\n",
              "      <th>white_wine</th>\n",
              "      <td>-1.000000</td>\n",
              "      <td>1.000000</td>\n",
              "      <td>0.019480</td>\n",
              "      <td>-0.400383</td>\n",
              "      <td>-0.164315</td>\n",
              "      <td>-0.343726</td>\n",
              "      <td>0.346787</td>\n",
              "      <td>-0.496501</td>\n",
              "      <td>-0.648491</td>\n",
              "      <td>0.159942</td>\n",
              "      <td>0.457614</td>\n",
              "      <td>-0.008131</td>\n",
              "      <td>-0.500513</td>\n",
              "      <td>-0.484182</td>\n",
              "      <td>-0.397485</td>\n",
              "    </tr>\n",
              "    <tr>\n",
              "      <th>Alcohol</th>\n",
              "      <td>-0.019480</td>\n",
              "      <td>0.019480</td>\n",
              "      <td>1.000000</td>\n",
              "      <td>-0.581894</td>\n",
              "      <td>0.039122</td>\n",
              "      <td>0.088457</td>\n",
              "      <td>-0.358655</td>\n",
              "      <td>-0.068316</td>\n",
              "      <td>-0.033204</td>\n",
              "      <td>0.027183</td>\n",
              "      <td>-0.172109</td>\n",
              "      <td>0.165008</td>\n",
              "      <td>-0.227440</td>\n",
              "      <td>0.073488</td>\n",
              "      <td>0.028186</td>\n",
              "    </tr>\n",
              "    <tr>\n",
              "      <th>Density</th>\n",
              "      <td>0.400383</td>\n",
              "      <td>-0.400383</td>\n",
              "      <td>-0.581894</td>\n",
              "      <td>1.000000</td>\n",
              "      <td>0.044124</td>\n",
              "      <td>0.082842</td>\n",
              "      <td>0.408034</td>\n",
              "      <td>0.309032</td>\n",
              "      <td>0.257241</td>\n",
              "      <td>-0.012508</td>\n",
              "      <td>0.034630</td>\n",
              "      <td>-0.092001</td>\n",
              "      <td>0.312369</td>\n",
              "      <td>0.142307</td>\n",
              "      <td>0.156255</td>\n",
              "    </tr>\n",
              "    <tr>\n",
              "      <th>Nitrogen</th>\n",
              "      <td>0.164315</td>\n",
              "      <td>-0.164315</td>\n",
              "      <td>0.039122</td>\n",
              "      <td>0.044124</td>\n",
              "      <td>1.000000</td>\n",
              "      <td>0.109315</td>\n",
              "      <td>-0.060250</td>\n",
              "      <td>0.025305</td>\n",
              "      <td>0.110763</td>\n",
              "      <td>-0.044320</td>\n",
              "      <td>-0.073871</td>\n",
              "      <td>0.046744</td>\n",
              "      <td>0.058693</td>\n",
              "      <td>0.063867</td>\n",
              "      <td>0.069888</td>\n",
              "    </tr>\n",
              "    <tr>\n",
              "      <th>pH</th>\n",
              "      <td>0.343726</td>\n",
              "      <td>-0.343726</td>\n",
              "      <td>0.088457</td>\n",
              "      <td>0.082842</td>\n",
              "      <td>0.109315</td>\n",
              "      <td>1.000000</td>\n",
              "      <td>-0.270862</td>\n",
              "      <td>-0.222772</td>\n",
              "      <td>0.292073</td>\n",
              "      <td>-0.371531</td>\n",
              "      <td>-0.173381</td>\n",
              "      <td>0.062760</td>\n",
              "      <td>0.052424</td>\n",
              "      <td>0.171676</td>\n",
              "      <td>0.130030</td>\n",
              "    </tr>\n",
              "    <tr>\n",
              "      <th>Sugar</th>\n",
              "      <td>-0.346787</td>\n",
              "      <td>0.346787</td>\n",
              "      <td>-0.358655</td>\n",
              "      <td>0.408034</td>\n",
              "      <td>-0.060250</td>\n",
              "      <td>-0.270862</td>\n",
              "      <td>1.000000</td>\n",
              "      <td>-0.110477</td>\n",
              "      <td>-0.220212</td>\n",
              "      <td>0.134627</td>\n",
              "      <td>0.433914</td>\n",
              "      <td>-0.102511</td>\n",
              "      <td>-0.134640</td>\n",
              "      <td>-0.208177</td>\n",
              "      <td>-0.138454</td>\n",
              "    </tr>\n",
              "    <tr>\n",
              "      <th>A</th>\n",
              "      <td>0.496501</td>\n",
              "      <td>-0.496501</td>\n",
              "      <td>-0.068316</td>\n",
              "      <td>0.309032</td>\n",
              "      <td>0.025305</td>\n",
              "      <td>-0.222772</td>\n",
              "      <td>-0.110477</td>\n",
              "      <td>1.000000</td>\n",
              "      <td>0.242967</td>\n",
              "      <td>0.353065</td>\n",
              "      <td>-0.234070</td>\n",
              "      <td>-0.026892</td>\n",
              "      <td>0.261859</td>\n",
              "      <td>0.301348</td>\n",
              "      <td>0.199203</td>\n",
              "    </tr>\n",
              "    <tr>\n",
              "      <th>B</th>\n",
              "      <td>0.648491</td>\n",
              "      <td>-0.648491</td>\n",
              "      <td>-0.033204</td>\n",
              "      <td>0.257241</td>\n",
              "      <td>0.110763</td>\n",
              "      <td>0.292073</td>\n",
              "      <td>-0.220212</td>\n",
              "      <td>0.242967</td>\n",
              "      <td>1.000000</td>\n",
              "      <td>-0.370924</td>\n",
              "      <td>-0.375313</td>\n",
              "      <td>-0.012140</td>\n",
              "      <td>0.331672</td>\n",
              "      <td>0.190954</td>\n",
              "      <td>0.244570</td>\n",
              "    </tr>\n",
              "    <tr>\n",
              "      <th>C</th>\n",
              "      <td>-0.159942</td>\n",
              "      <td>0.159942</td>\n",
              "      <td>0.027183</td>\n",
              "      <td>-0.012508</td>\n",
              "      <td>-0.044320</td>\n",
              "      <td>-0.371531</td>\n",
              "      <td>0.134627</td>\n",
              "      <td>0.353065</td>\n",
              "      <td>-0.370924</td>\n",
              "      <td>1.000000</td>\n",
              "      <td>0.146534</td>\n",
              "      <td>-0.042014</td>\n",
              "      <td>0.061677</td>\n",
              "      <td>0.104906</td>\n",
              "      <td>-0.074992</td>\n",
              "    </tr>\n",
              "    <tr>\n",
              "      <th>D</th>\n",
              "      <td>-0.457614</td>\n",
              "      <td>0.457614</td>\n",
              "      <td>-0.172109</td>\n",
              "      <td>0.034630</td>\n",
              "      <td>-0.073871</td>\n",
              "      <td>-0.173381</td>\n",
              "      <td>0.433914</td>\n",
              "      <td>-0.234070</td>\n",
              "      <td>-0.375313</td>\n",
              "      <td>0.146534</td>\n",
              "      <td>1.000000</td>\n",
              "      <td>-0.004011</td>\n",
              "      <td>-0.210524</td>\n",
              "      <td>-0.195631</td>\n",
              "      <td>-0.176834</td>\n",
              "    </tr>\n",
              "    <tr>\n",
              "      <th>E</th>\n",
              "      <td>0.008131</td>\n",
              "      <td>-0.008131</td>\n",
              "      <td>0.165008</td>\n",
              "      <td>-0.092001</td>\n",
              "      <td>0.046744</td>\n",
              "      <td>0.062760</td>\n",
              "      <td>-0.102511</td>\n",
              "      <td>-0.026892</td>\n",
              "      <td>-0.012140</td>\n",
              "      <td>-0.042014</td>\n",
              "      <td>-0.004011</td>\n",
              "      <td>1.000000</td>\n",
              "      <td>-0.038928</td>\n",
              "      <td>0.016569</td>\n",
              "      <td>-0.043938</td>\n",
              "    </tr>\n",
              "    <tr>\n",
              "      <th>H</th>\n",
              "      <td>0.500513</td>\n",
              "      <td>-0.500513</td>\n",
              "      <td>-0.227440</td>\n",
              "      <td>0.312369</td>\n",
              "      <td>0.058693</td>\n",
              "      <td>0.052424</td>\n",
              "      <td>-0.134640</td>\n",
              "      <td>0.261859</td>\n",
              "      <td>0.331672</td>\n",
              "      <td>0.061677</td>\n",
              "      <td>-0.210524</td>\n",
              "      <td>-0.038928</td>\n",
              "      <td>1.000000</td>\n",
              "      <td>0.417093</td>\n",
              "      <td>0.147472</td>\n",
              "    </tr>\n",
              "    <tr>\n",
              "      <th>S</th>\n",
              "      <td>0.484182</td>\n",
              "      <td>-0.484182</td>\n",
              "      <td>0.073488</td>\n",
              "      <td>0.142307</td>\n",
              "      <td>0.063867</td>\n",
              "      <td>0.171676</td>\n",
              "      <td>-0.208177</td>\n",
              "      <td>0.301348</td>\n",
              "      <td>0.190954</td>\n",
              "      <td>0.104906</td>\n",
              "      <td>-0.195631</td>\n",
              "      <td>0.016569</td>\n",
              "      <td>0.417093</td>\n",
              "      <td>1.000000</td>\n",
              "      <td>0.166250</td>\n",
              "    </tr>\n",
              "    <tr>\n",
              "      <th>V</th>\n",
              "      <td>0.397485</td>\n",
              "      <td>-0.397485</td>\n",
              "      <td>0.028186</td>\n",
              "      <td>0.156255</td>\n",
              "      <td>0.069888</td>\n",
              "      <td>0.130030</td>\n",
              "      <td>-0.138454</td>\n",
              "      <td>0.199203</td>\n",
              "      <td>0.244570</td>\n",
              "      <td>-0.074992</td>\n",
              "      <td>-0.176834</td>\n",
              "      <td>-0.043938</td>\n",
              "      <td>0.147472</td>\n",
              "      <td>0.166250</td>\n",
              "      <td>1.000000</td>\n",
              "    </tr>\n",
              "  </tbody>\n",
              "</table>\n",
              "</div>"
            ],
            "text/plain": [
              "            red_wine  white_wine   Alcohol   Density  Nitrogen        pH  \\\n",
              "red_wine    1.000000   -1.000000 -0.019480  0.400383  0.164315  0.343726   \n",
              "white_wine -1.000000    1.000000  0.019480 -0.400383 -0.164315 -0.343726   \n",
              "Alcohol    -0.019480    0.019480  1.000000 -0.581894  0.039122  0.088457   \n",
              "Density     0.400383   -0.400383 -0.581894  1.000000  0.044124  0.082842   \n",
              "Nitrogen    0.164315   -0.164315  0.039122  0.044124  1.000000  0.109315   \n",
              "pH          0.343726   -0.343726  0.088457  0.082842  0.109315  1.000000   \n",
              "Sugar      -0.346787    0.346787 -0.358655  0.408034 -0.060250 -0.270862   \n",
              "A           0.496501   -0.496501 -0.068316  0.309032  0.025305 -0.222772   \n",
              "B           0.648491   -0.648491 -0.033204  0.257241  0.110763  0.292073   \n",
              "C          -0.159942    0.159942  0.027183 -0.012508 -0.044320 -0.371531   \n",
              "D          -0.457614    0.457614 -0.172109  0.034630 -0.073871 -0.173381   \n",
              "E           0.008131   -0.008131  0.165008 -0.092001  0.046744  0.062760   \n",
              "H           0.500513   -0.500513 -0.227440  0.312369  0.058693  0.052424   \n",
              "S           0.484182   -0.484182  0.073488  0.142307  0.063867  0.171676   \n",
              "V           0.397485   -0.397485  0.028186  0.156255  0.069888  0.130030   \n",
              "\n",
              "               Sugar         A         B         C         D         E  \\\n",
              "red_wine   -0.346787  0.496501  0.648491 -0.159942 -0.457614  0.008131   \n",
              "white_wine  0.346787 -0.496501 -0.648491  0.159942  0.457614 -0.008131   \n",
              "Alcohol    -0.358655 -0.068316 -0.033204  0.027183 -0.172109  0.165008   \n",
              "Density     0.408034  0.309032  0.257241 -0.012508  0.034630 -0.092001   \n",
              "Nitrogen   -0.060250  0.025305  0.110763 -0.044320 -0.073871  0.046744   \n",
              "pH         -0.270862 -0.222772  0.292073 -0.371531 -0.173381  0.062760   \n",
              "Sugar       1.000000 -0.110477 -0.220212  0.134627  0.433914 -0.102511   \n",
              "A          -0.110477  1.000000  0.242967  0.353065 -0.234070 -0.026892   \n",
              "B          -0.220212  0.242967  1.000000 -0.370924 -0.375313 -0.012140   \n",
              "C           0.134627  0.353065 -0.370924  1.000000  0.146534 -0.042014   \n",
              "D           0.433914 -0.234070 -0.375313  0.146534  1.000000 -0.004011   \n",
              "E          -0.102511 -0.026892 -0.012140 -0.042014 -0.004011  1.000000   \n",
              "H          -0.134640  0.261859  0.331672  0.061677 -0.210524 -0.038928   \n",
              "S          -0.208177  0.301348  0.190954  0.104906 -0.195631  0.016569   \n",
              "V          -0.138454  0.199203  0.244570 -0.074992 -0.176834 -0.043938   \n",
              "\n",
              "                   H         S         V  \n",
              "red_wine    0.500513  0.484182  0.397485  \n",
              "white_wine -0.500513 -0.484182 -0.397485  \n",
              "Alcohol    -0.227440  0.073488  0.028186  \n",
              "Density     0.312369  0.142307  0.156255  \n",
              "Nitrogen    0.058693  0.063867  0.069888  \n",
              "pH          0.052424  0.171676  0.130030  \n",
              "Sugar      -0.134640 -0.208177 -0.138454  \n",
              "A           0.261859  0.301348  0.199203  \n",
              "B           0.331672  0.190954  0.244570  \n",
              "C           0.061677  0.104906 -0.074992  \n",
              "D          -0.210524 -0.195631 -0.176834  \n",
              "E          -0.038928  0.016569 -0.043938  \n",
              "H           1.000000  0.417093  0.147472  \n",
              "S           0.417093  1.000000  0.166250  \n",
              "V           0.147472  0.166250  1.000000  "
            ]
          },
          "metadata": {
            "tags": []
          },
          "execution_count": 30
        }
      ]
    },
    {
      "cell_type": "code",
      "metadata": {
        "id": "xg6pYMilWJwY",
        "colab_type": "code",
        "colab": {}
      },
      "source": [
        "x = df_train.values \n",
        "min_max_scaler = preprocessing.MinMaxScaler()\n",
        "x_scaled = min_max_scaler.fit_transform(x)\n",
        "df = pd.DataFrame(x_scaled)\n",
        "X = np.array(df).reshape(len(df),len(df.columns))\n",
        "\n",
        "x = df_test.values \n",
        "x_scaled = min_max_scaler.fit_transform(x)\n",
        "df = pd.DataFrame(x_scaled)\n",
        "X_test = np.array(df).reshape(len(df),len(df.columns))\n",
        "# Use Min_max scaler to train and test sets to make it distributed in similar ranges"
      ],
      "execution_count": 0,
      "outputs": []
    },
    {
      "cell_type": "code",
      "metadata": {
        "id": "vXEBc4sPWJwd",
        "colab_type": "code",
        "colab": {}
      },
      "source": [
        "clf = RandomForestClassifier(max_depth = 20, random_state = 0)\n",
        "# Approach is Random Forrest with depth 20. This algorythm is resistant to overfit and makes calssifictaion very well."
      ],
      "execution_count": 0,
      "outputs": []
    },
    {
      "cell_type": "code",
      "metadata": {
        "id": "a2RJ5QuxWJwh",
        "colab_type": "code",
        "colab": {},
        "outputId": "0b6f9bea-4e69-4920-f4d0-fb4e100abcea"
      },
      "source": [
        "X_test.shape"
      ],
      "execution_count": 0,
      "outputs": [
        {
          "output_type": "execute_result",
          "data": {
            "text/plain": [
              "(790, 15)"
            ]
          },
          "metadata": {
            "tags": []
          },
          "execution_count": 33
        }
      ]
    },
    {
      "cell_type": "code",
      "metadata": {
        "id": "PZs8mEkDWJwo",
        "colab_type": "code",
        "colab": {},
        "outputId": "ab8fb980-a023-4fdd-8386-26edda3d2aa8"
      },
      "source": [
        "clf.fit(X,Y)\n",
        "# Train classificator on train set and target value"
      ],
      "execution_count": 0,
      "outputs": [
        {
          "output_type": "stream",
          "text": [
            "c:\\users\\chernyshov\\appdata\\local\\programs\\python\\python37-32\\lib\\site-packages\\sklearn\\ensemble\\forest.py:245: FutureWarning: The default value of n_estimators will change from 10 in version 0.20 to 100 in 0.22.\n",
            "  \"10 in version 0.20 to 100 in 0.22.\", FutureWarning)\n",
            "C:\\Users\\chernyshov\\AppData\\Roaming\\Python\\Python37\\site-packages\\ipykernel_launcher.py:1: DataConversionWarning: A column-vector y was passed when a 1d array was expected. Please change the shape of y to (n_samples,), for example using ravel().\n",
            "  \"\"\"Entry point for launching an IPython kernel.\n"
          ],
          "name": "stderr"
        },
        {
          "output_type": "execute_result",
          "data": {
            "text/plain": [
              "RandomForestClassifier(bootstrap=True, class_weight=None, criterion='gini',\n",
              "                       max_depth=20, max_features='auto', max_leaf_nodes=None,\n",
              "                       min_impurity_decrease=0.0, min_impurity_split=None,\n",
              "                       min_samples_leaf=1, min_samples_split=2,\n",
              "                       min_weight_fraction_leaf=0.0, n_estimators=10,\n",
              "                       n_jobs=None, oob_score=False, random_state=0, verbose=0,\n",
              "                       warm_start=False)"
            ]
          },
          "metadata": {
            "tags": []
          },
          "execution_count": 34
        }
      ]
    },
    {
      "cell_type": "code",
      "metadata": {
        "id": "iOm-njwHWJws",
        "colab_type": "code",
        "colab": {}
      },
      "source": [
        "Y_out = clf.predict(X)\n",
        "# Use trained classificator on train set to predict classes"
      ],
      "execution_count": 0,
      "outputs": []
    },
    {
      "cell_type": "code",
      "metadata": {
        "id": "4Jk8KLmEWJwy",
        "colab_type": "code",
        "colab": {},
        "outputId": "d03bfa46-c277-4193-b186-3f3d362c8d08"
      },
      "source": [
        "Y_out.shape"
      ],
      "execution_count": 0,
      "outputs": [
        {
          "output_type": "execute_result",
          "data": {
            "text/plain": [
              "(5600,)"
            ]
          },
          "metadata": {
            "tags": []
          },
          "execution_count": 36
        }
      ]
    },
    {
      "cell_type": "code",
      "metadata": {
        "id": "cQQpwVzTWJw4",
        "colab_type": "code",
        "colab": {},
        "outputId": "50c6a4ed-ea90-4955-bab0-ca19cc595409"
      },
      "source": [
        "Y_out\n",
        "# Output array of labels with shape (5600,)"
      ],
      "execution_count": 0,
      "outputs": [
        {
          "output_type": "execute_result",
          "data": {
            "text/plain": [
              "array([3, 4, 3, ..., 4, 4, 4])"
            ]
          },
          "metadata": {
            "tags": []
          },
          "execution_count": 37
        }
      ]
    },
    {
      "cell_type": "code",
      "metadata": {
        "id": "vbVDYBkPWJw9",
        "colab_type": "code",
        "colab": {},
        "outputId": "6f85a012-9f5c-4aa0-e85d-30171a733327"
      },
      "source": [
        "accuracy_score(Y,Y_out)\n",
        "# Check accuracy score between predicted and true labels"
      ],
      "execution_count": 0,
      "outputs": [
        {
          "output_type": "execute_result",
          "data": {
            "text/plain": [
              "0.9883928571428572"
            ]
          },
          "metadata": {
            "tags": []
          },
          "execution_count": 38
        }
      ]
    },
    {
      "cell_type": "code",
      "metadata": {
        "id": "YoR2w2gNWJxC",
        "colab_type": "code",
        "colab": {},
        "outputId": "b8f07a96-70c6-48fb-8cb1-ae34031b4eb6"
      },
      "source": [
        "print(Y_out.min())\n",
        "print(Y_out.max())\n",
        "# Check min and max classes in output. As we can see, model not generalised on the most common classes"
      ],
      "execution_count": 0,
      "outputs": [
        {
          "output_type": "stream",
          "text": [
            "1\n",
            "6\n"
          ],
          "name": "stdout"
        }
      ]
    },
    {
      "cell_type": "code",
      "metadata": {
        "id": "cqXL5T3DWJxI",
        "colab_type": "code",
        "colab": {},
        "outputId": "e26847f3-cd57-4189-80a5-4074ceeba0c6"
      },
      "source": [
        "confusion_matrix(Y,Y_out)\n",
        "# Use confusion matrix to detect how classificator predicts values\n",
        "# As we can see, it's generalised well, and performs on train set great. Some False positives values presented in classes 3,4,5"
      ],
      "execution_count": 0,
      "outputs": [
        {
          "output_type": "execute_result",
          "data": {
            "text/plain": [
              "array([[  24,    0,    0,    0,    1,    0],\n",
              "       [   0,  177,    5,    0,    1,    0],\n",
              "       [   0,    1, 1844,   12,    0,    1],\n",
              "       [   0,    0,   21, 2420,    4,    0],\n",
              "       [   0,    0,    1,   10,  920,    0],\n",
              "       [   0,    0,    0,    4,    4,  150]], dtype=int64)"
            ]
          },
          "metadata": {
            "tags": []
          },
          "execution_count": 40
        }
      ]
    },
    {
      "cell_type": "code",
      "metadata": {
        "id": "L_QC2uaiWJxO",
        "colab_type": "code",
        "colab": {}
      },
      "source": [
        "ans = clf.predict(X_test)\n",
        "# create array of predictions for test set"
      ],
      "execution_count": 0,
      "outputs": []
    },
    {
      "cell_type": "code",
      "metadata": {
        "id": "EjnIUrShWJxW",
        "colab_type": "code",
        "colab": {}
      },
      "source": [
        "df_ans = pd.DataFrame(ans)\n",
        "# Create dataframe of predicted labels to plotting it"
      ],
      "execution_count": 0,
      "outputs": []
    },
    {
      "cell_type": "code",
      "metadata": {
        "id": "YOzxIdbKWJxb",
        "colab_type": "code",
        "colab": {},
        "outputId": "08887e76-c4d5-46e8-ecc4-69c18e7ea1f7"
      },
      "source": [
        "df_ans[0].value_counts().plot.bar(legend=True)\n",
        "# Plot predicted labels"
      ],
      "execution_count": 0,
      "outputs": [
        {
          "output_type": "execute_result",
          "data": {
            "text/plain": [
              "<matplotlib.axes._subplots.AxesSubplot at 0x105c8950>"
            ]
          },
          "metadata": {
            "tags": []
          },
          "execution_count": 43
        },
        {
          "output_type": "display_data",
          "data": {
            "image/png": "[encoded data removed]",
            "text/plain": [
              "<Figure size 432x288 with 1 Axes>"
            ]
          },
          "metadata": {
            "tags": [],
            "needs_background": "light"
          }
        }
      ]
    },
    {
      "cell_type": "code",
      "metadata": {
        "id": "k9OHz6hHWJxh",
        "colab_type": "code",
        "colab": {},
        "outputId": "960afe25-b2d9-40df-b1e3-75c5aaf8af3f"
      },
      "source": [
        "f1_score(Y, Y_out, average = 'weighted')\n",
        "# Check f1_score, precision and recall of the model"
      ],
      "execution_count": 0,
      "outputs": [
        {
          "output_type": "execute_result",
          "data": {
            "text/plain": [
              "0.9883768600227775"
            ]
          },
          "metadata": {
            "tags": []
          },
          "execution_count": 44
        }
      ]
    },
    {
      "cell_type": "code",
      "metadata": {
        "id": "vRn93JW6WJxn",
        "colab_type": "code",
        "colab": {},
        "outputId": "32103d46-d53f-4596-9872-f91852ec9972"
      },
      "source": [
        "precision_score(Y,Y_out, average = 'weighted')"
      ],
      "execution_count": 0,
      "outputs": [
        {
          "output_type": "execute_result",
          "data": {
            "text/plain": [
              "0.9884130410038268"
            ]
          },
          "metadata": {
            "tags": []
          },
          "execution_count": 45
        }
      ]
    },
    {
      "cell_type": "code",
      "metadata": {
        "id": "dMLodMzMWJxv",
        "colab_type": "code",
        "colab": {},
        "outputId": "b179e76d-d1bd-4d2c-dee4-edc420061148"
      },
      "source": [
        "recall_score(Y,Y_out, average = 'weighted')"
      ],
      "execution_count": 0,
      "outputs": [
        {
          "output_type": "execute_result",
          "data": {
            "text/plain": [
              "0.9883928571428572"
            ]
          },
          "metadata": {
            "tags": []
          },
          "execution_count": 46
        }
      ]
    },
    {
      "cell_type": "markdown",
      "metadata": {
        "id": "sAz1JJfHWJx4",
        "colab_type": "text"
      },
      "source": [
        "As we can see, Random Forest classifier works well without deep data analysis and preparation. Only two most correlated columns\n",
        "were dropped from data frame, NaN values filled with mean in column values and after Min-max scaling, model was fitted on train set. Deep (20) forest model was used, but as Forrest is resistant to overfit and sets wasn't very big, this is the \"+\" sign for this approach. Precision, Recall and F1 scores were about 98%. Model predicted 5 classes on test set, instead 6 presented in train set. But class '1' was the minors of all, so we may conclude, that any wine in test set corresponds to '1'. Also, on test set we have class '6' more, than class '2'.\n",
        "These problems can be solved, but need more preparation and work with data and the model, but actually it can be solved as it is, just by obtaining more training data."
      ]
    },
    {
      "cell_type": "code",
      "metadata": {
        "id": "YZREKpJaWJx6",
        "colab_type": "code",
        "colab": {}
      },
      "source": [
        "df_ans.index = np.arange(5600,len(df)+5600)\n",
        "df_ans.index.names = ['Index']\n",
        "df_ans.to_csv('Submission_Random_forest.csv')"
      ],
      "execution_count": 0,
      "outputs": []
    },
    {
      "cell_type": "code",
      "metadata": {
        "id": "-nM6qm-4WJyD",
        "colab_type": "code",
        "colab": {}
      },
      "source": [
        ""
      ],
      "execution_count": 0,
      "outputs": []
    }
  ]
}