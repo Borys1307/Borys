{
 "cells": [
  {
   "cell_type": "code",
   "execution_count": 19,
   "metadata": {},
   "outputs": [],
   "source": [
    "#Import libraries needed for work with data\n",
    "import pandas as pd\n",
    "import matplotlib.pyplot as plt\n",
    "import numpy as np\n",
    "from sklearn.linear_model import LinearRegression\n",
    "from sklearn.preprocessing import PolynomialFeatures \n",
    "from sklearn import preprocessing\n",
    "%matplotlib inline"
   ]
  },
  {
   "cell_type": "code",
   "execution_count": 2,
   "metadata": {},
   "outputs": [],
   "source": [
    "#Create tran and test dataframes from csv files\n",
    "filename = 'WINE.csv'\n",
    "test_file = 'TEST.csv'\n",
    "df = pd.read_csv(filename)\n",
    "df_test = pd.read_csv(test_file)"
   ]
  },
  {
   "cell_type": "code",
   "execution_count": 3,
   "metadata": {},
   "outputs": [],
   "source": [
    "#drop indexes from train and test sets\n",
    "df.drop('Index', axis = 1, inplace = True)\n",
    "df_test.drop('Index', axis = 1, inplace = True)"
   ]
  },
  {
   "cell_type": "code",
   "execution_count": 4,
   "metadata": {},
   "outputs": [],
   "source": [
    "#Creating an array of true values from trainig set. Divide array to maximum value to have 0-1 range of values in Y array.\n",
    "Y = np.array(df['Target'].astype('float64')).reshape(len(df['Target']),1).T\n",
    "Y = Y/Y.max()"
   ]
  },
  {
   "cell_type": "code",
   "execution_count": 5,
   "metadata": {},
   "outputs": [],
   "source": [
    "#Preprocessing of our dataframe. First, add columns of wine type with 1 and 0. 1 in 'red_wine' column corresponds to red wine.\n",
    "#0 in this column means that it's not a red wine. 'white_wine' column is the same in consideration of white wine. Use this\n",
    "#approach in train and test sets.\n",
    "df1 = pd.get_dummies(df['Type'])\n",
    "df1_test = pd.get_dummies(df_test['Type'])\n",
    "df.insert(loc = 1, column = 'red_wine', value = df1['red_wine'])\n",
    "df.insert(loc = 2, column = 'white_wine', value = df1['white_wine'])\n",
    "df_test.insert(loc = 1, column = 'red_wine', value = df1_test['red_wine'])\n",
    "df_test.insert(loc = 2, column = 'white_wine', value = df1_test['white_wine'])\n",
    "\n",
    "#Next, we have some Nan values in dataframe. We fill it with mean values for a column\n",
    "df_test.fillna(df_test.mean(), inplace = True)\n",
    "df.fillna(df.mean(), inplace = True)\n",
    "\n",
    "#Approach is a black box. I don't know what characteristics named by letters somelliers gave in set. I try to predict\n",
    "#quality using labeled characteristics. So in set i'll use columns 'Alcohol', 'Density', 'Nitrogen', 'pH', 'Sugar'\n",
    "#Also 'red_wine' and 'white_wine' columns will be used. So i drop other columns from set\n",
    "df.drop(['A','B', 'C', 'D', 'Di', 'E', 'H', 'S', 'U', 'V', 'Target', 'Type'], axis = 1, inplace = True)\n",
    "df_test.drop(['A','B', 'C', 'D', 'Di', 'E', 'H', 'S', 'U', 'V', 'Type'], axis = 1, inplace = True)\n"
   ]
  },
  {
   "cell_type": "code",
   "execution_count": 6,
   "metadata": {},
   "outputs": [],
   "source": [
    "#Next step min-max scaling. Data from table have different range, i try to make more similar.\n",
    "x = df.values \n",
    "min_max_scaler = preprocessing.MinMaxScaler()\n",
    "x_scaled = min_max_scaler.fit_transform(x)\n",
    "df = pd.DataFrame(x_scaled)\n",
    "X = np.array(df).reshape(len(df),len(df.columns)).T\n",
    "#X - an array of training examples\n",
    "\n",
    "x = df_test.values \n",
    "min_max_scaler = preprocessing.MinMaxScaler()\n",
    "x_scaled = min_max_scaler.fit_transform(x)\n",
    "df = pd.DataFrame(x_scaled)\n",
    "X_test = np.array(df).reshape(len(df),len(df.columns)).T\n",
    "#X_test - an array of test examples"
   ]
  },
  {
   "cell_type": "code",
   "execution_count": 7,
   "metadata": {},
   "outputs": [],
   "source": [
    "#Create functions will be used in network. I'll use sigma function in output layer and relu in hidden layer.\n",
    "#sigma_der function created to help computing gradient descent.\n",
    "def sigma(Z):\n",
    "    s = 1/(1+np.exp(-Z))\n",
    "    return s\n",
    "def sigma_der(Z):\n",
    "    return sigma(Z)*(1-sigma(Z))\n",
    "def relu(Z):\n",
    "    return np.maximum(0,Z)"
   ]
  },
  {
   "cell_type": "code",
   "execution_count": 11,
   "metadata": {},
   "outputs": [
    {
     "name": "stdout",
     "output_type": "stream",
     "text": [
      "W 1 (5, 7) b 1 (5, 1)\n",
      "W 2 (3, 5) b 2 (3, 1)\n",
      "W 3 (2, 3) b 3 (2, 1)\n",
      "W 4 (1, 2) b 4 (1, 1)\n"
     ]
    }
   ],
   "source": [
    "#Initialization function of neural network. layers_count variable is a list of numbers of neurons in each layer of network\n",
    "#In this approach i'll consider a 4 layer network with number of neurons 5,3,2,1.\n",
    "#In this method He initialization is used\n",
    "def initialize(layers_count):\n",
    "    np.random.seed(5)\n",
    "    parameters = {}\n",
    "    for l in range(1,len(layers_count)):\n",
    "        parameters['W'+str(l)] = np.random.randn(layers_count[l],layers_count[l-1])*np.sqrt(2/layers_count[l-1])\n",
    "        parameters['b'+str(l)] = np.zeros((layers_count[l],1))\n",
    "        print('W', str(l),parameters['W'+str(l)].shape, 'b',str(l),parameters['b'+str(l)].shape)\n",
    "    return parameters,len(layers_count)\n",
    "parameters = initialize([X.shape[0],5,3,2,1])"
   ]
  },
  {
   "cell_type": "code",
   "execution_count": 14,
   "metadata": {},
   "outputs": [],
   "source": [
    "#Function to calculate forward propagation. A3 is an output of network, X - an input, depth - number of layers.\n",
    "#cache - the dictionary of weights and biases in each layer.\n",
    "#Activation functions in network Relu->sigma->relu->sigma\n",
    "def forward(X,parameters, depth = parameters[1]):\n",
    "    cache = {}\n",
    "    A3 = X\n",
    "    for l in range(1, depth):\n",
    "        W  = parameters[0]['W' + str(l)]        \n",
    "        b  = parameters[0]['b' + str(l)]\n",
    "        cache['W' + str(l)] = W \n",
    "        cache['b' + str(l)] = b\n",
    "        Z = np.dot(W,A3) + b  \n",
    "        cache['Z' + str(l)] = Z\n",
    "        if l%2 == 0:\n",
    "            A3 = sigma(Z)        \n",
    "        else:\n",
    "            A3 = relu(Z)                                \n",
    "        cache['A' + str(l)] = A3\n",
    "    return A3,cache\n",
    "A3, cache = forward(X,parameters)"
   ]
  },
  {
   "cell_type": "code",
   "execution_count": 15,
   "metadata": {},
   "outputs": [],
   "source": [
    "#Function to calculate backpropagation through network. Takes X and Y - input and output arrays and cache - \n",
    "#a dictionary of weights and biases. Returns a dictionary of derivatives. dZ means partial derivative of output by Z. \n",
    "#Number near corresponds to number of layer. dW3 - means derivative by W in 3 layer.\n",
    "def backprop(X,Y, cache):\n",
    "    m = X.shape[1]\n",
    "    dZ4 = A3 - Y\n",
    "    dW4 = 1./m * np.dot(dZ4, cache['A4'].T)\n",
    "    db4 = 1./m * np.sum(dZ4, axis=1, keepdims = True)\n",
    "\t\n",
    "    dA3 = np.dot(cache['W4'].T, dZ4)\n",
    "    dZ3 = np.multiply(dA3, np.int64(cache['A3'] > 0))\n",
    "    dW3 = 1./m * np.dot(dZ3, cache['A2'].T)\n",
    "    db3 = 1./m * np.sum(dZ3, axis=1, keepdims = True)\n",
    "\t\n",
    "    dA2 = np.dot(cache['W3'].T, dZ3)\n",
    "    dZ2 = np.multiply(dA2, sigma_der(cache['A2']))\n",
    "    dW2 = 1./m * np.dot(dZ2, cache['A1'].T)\n",
    "    db2 = 1./m * np.sum(dZ2, axis=1, keepdims = True)\n",
    "    \n",
    "    dA1 = np.dot(cache['W2'].T, dZ2)\n",
    "    dZ1 = np.multiply(dA1, np.int64(cache['A1'] > 0))\n",
    "    dW1 = 1./m * np.dot(dZ1, X.T)\n",
    "    db1 = 1./m * np.sum(dZ1, axis=1, keepdims = True)\n",
    "\n",
    "    gradients = {\"dZ4\": dZ4, \"dW4\": dW4, \"db4\": db4,\n",
    "\t             \"dA3\": dA2, \"dZ3\": dZ3, \"dW3\": dW3, \"db3\": db3,\n",
    "                 \"dA2\": dA2, \"dZ2\": dZ2, \"dW2\": dW2, \"db2\": db2,\n",
    "                 \"dA1\": dA1, \"dZ1\": dZ1, \"dW1\": dW1, \"db1\": db1}\n",
    "    \n",
    "    return gradients\n",
    "gradients = backprop(X,Y, cache)"
   ]
  },
  {
   "cell_type": "code",
   "execution_count": 16,
   "metadata": {},
   "outputs": [],
   "source": [
    "#Function for tuning parameter during learning. Returns updated parameters W and b and number of layers\n",
    "def update_parameters(parameters, gradients, learning_rate, layers_count = parameters[1]):\n",
    "    n = len(parameters) // 2    \n",
    "    for k in range(n):\n",
    "        parameters[\"W\" + str(k+1)] = parameters[\"W\" + str(k+1)] - learning_rate * gradients[\"dW\" + str(k+1)]\n",
    "        parameters[\"b\" + str(k+1)] = parameters[\"b\" + str(k+1)] - learning_rate * gradients[\"db\" + str(k+1)]        \n",
    "    return parameters, layers_count"
   ]
  },
  {
   "cell_type": "code",
   "execution_count": 17,
   "metadata": {},
   "outputs": [],
   "source": [
    "#cost_function calculates average error on output. I use standard deviation error. A3 is an output of network, Y - array of \n",
    "#answers\n",
    "def cost_function(A3, Y):\n",
    "    m = Y.shape[1]\n",
    "    cost = 1./m * np.sum((A3-Y)**2)\n",
    "    return cost\n",
    "\n",
    "#Predictin function. Returns a vector of predictions. 6.0 value is a maximum score in 'Target' column, so we achieve scores \n",
    "#between 1 and 6 in prediction. Approach is that Score of 4 can be reached only if value more than 4. All values between 3.0 \n",
    "#and 3.99 mean 3. \n",
    "def predict(X,parameters):\n",
    "    A3, cache = forward(X,parameters)\n",
    "    prediction = np.int64((A3.T)*6.0)\n",
    "    return prediction"
   ]
  },
  {
   "cell_type": "code",
   "execution_count": 26,
   "metadata": {},
   "outputs": [],
   "source": [
    "#Assembling our model. Takes X - input aarray, X_test - input test array, Y - target values, learning_rate and num_iterations - \n",
    "#network hyperparameters. Returns 5 argumens. [0] - prediction_test - array of predicted values of scores for test set.\n",
    "#[1] - number of true predicted score for training set. [2] - costs - a list of cost_function values. [3] - iterations - \n",
    "#list of number of iterations. [4] - labels - list of true predicted scores. 3 last lists are for plot cost_function per number\n",
    "#of iterations and true labelled scores per number of iterations. This is for selecting network hyperparameters.\n",
    "def model(X,X_test,Y,learning_rate, num_iterations):\n",
    "    parameters = initialize([X.shape[0],5,3,2,1])\n",
    "    costs = []\n",
    "    iterations = []\n",
    "    labels = []\n",
    "    for i in range(num_iterations+1):\n",
    "        A3, cache = forward(X,parameters)\n",
    "        cost = cost_function(A3, Y)\n",
    "        gradients = backprop(X,Y, cache)\n",
    "        parameters = update_parameters(parameters[0], gradients, learning_rate, layers_count = parameters[1])\n",
    "        if i%50 == 0:\n",
    "            costs.append(cost)\n",
    "            iterations.append(i)\n",
    "            labels.append(np.sum(np.int64((A3.T)*6.0) == (Y.T*6.0)))            \n",
    "    prediction_train = predict(X, parameters)\n",
    "    prediction_test = predict(X_test, parameters)\n",
    "    print(max(labels), iterations[labels.index(max(labels))])\n",
    "    return prediction_test, np.sum(prediction_train == (Y.T*6.0)), costs, iterations, labels"
   ]
  },
  {
   "cell_type": "code",
   "execution_count": 27,
   "metadata": {},
   "outputs": [
    {
     "name": "stdout",
     "output_type": "stream",
     "text": [
      "W 1 (5, 7) b 1 (5, 1)\n",
      "W 2 (3, 5) b 2 (3, 1)\n",
      "W 3 (2, 3) b 3 (2, 1)\n",
      "W 4 (1, 2) b 4 (1, 1)\n",
      "2603 5350\n"
     ]
    },
    {
     "data": {
      "text/plain": [
       "[<matplotlib.lines.Line2D at 0x57c7b10>]"
      ]
     },
     "execution_count": 27,
     "metadata": {},
     "output_type": "execute_result"
    },
    {
     "data": {
      "image/png": "[encoded data removed]",
      "text/plain": [
       "<Figure size 432x288 with 1 Axes>"
      ]
     },
     "metadata": {
      "needs_background": "light"
     },
     "output_type": "display_data"
    }
   ],
   "source": [
    "#Run model with learning rate 0.0001 and 10000 iterations. Save predictions to dataframe and add indexes starting from 5600 \n",
    "#(as in submission file). Plot our cost function and number of true predicted scores to obtain best number of iterations.\n",
    "answer = model(X,X_test,Y,0.0001, 10000)\n",
    "df = pd.DataFrame(answer[0],columns = ['Target'])\n",
    "y,x, labels = answer[2], answer[3], answer[4]\n",
    "df.index = np.arange(5600,len(df)+5600)\n",
    "df.index.names = ['Index']\n",
    "\n",
    "plt.plot(x,y)\n",
    "\n",
    "\n"
   ]
  },
  {
   "cell_type": "code",
   "execution_count": 25,
   "metadata": {},
   "outputs": [
    {
     "data": {
      "text/plain": [
       "[<matplotlib.lines.Line2D at 0x48ee470>]"
      ]
     },
     "execution_count": 25,
     "metadata": {},
     "output_type": "execute_result"
    },
    {
     "data": {
      "image/png": "[encoded data removed]",
      "text/plain": [
       "<Figure size 432x288 with 1 Axes>"
      ]
     },
     "metadata": {
      "needs_background": "light"
     },
     "output_type": "display_data"
    }
   ],
   "source": [
    "plt.plot(x,labels)"
   ]
  },
  {
   "cell_type": "code",
   "execution_count": 28,
   "metadata": {},
   "outputs": [],
   "source": [
    "#As we see number of true predicted scores maximum at iteration 5350 and cost function increases after 5000 iteration. \n",
    "#So we use 5350 as an optimal number of iterations as cost function is near minimum and number of true predictins is maximal. \n",
    "#Total number of examples is 5600 so model have true predicitions in 2603/5600*100% = 46.5% "
   ]
  },
  {
   "cell_type": "code",
   "execution_count": 29,
   "metadata": {},
   "outputs": [
    {
     "name": "stdout",
     "output_type": "stream",
     "text": [
      "W 1 (5, 7) b 1 (5, 1)\n",
      "W 2 (3, 5) b 2 (3, 1)\n",
      "W 3 (2, 3) b 3 (2, 1)\n",
      "W 4 (1, 2) b 4 (1, 1)\n",
      "2603 5350\n"
     ]
    },
    {
     "data": {
      "text/plain": [
       "[<matplotlib.lines.Line2D at 0x5803a10>]"
      ]
     },
     "execution_count": 29,
     "metadata": {},
     "output_type": "execute_result"
    },
    {
     "data": {
      "image/png": "[encoded data removed]",
      "text/plain": [
       "<Figure size 432x288 with 1 Axes>"
      ]
     },
     "metadata": {
      "needs_background": "light"
     },
     "output_type": "display_data"
    }
   ],
   "source": [
    "answer = model(X,X_test,Y,0.0001, 5350)\n",
    "df = pd.DataFrame(answer[0],columns = ['Target'])\n",
    "y,x, labels = answer[2], answer[3], answer[4]\n",
    "df.index = np.arange(5600,len(df)+5600)\n",
    "df.index.names = ['Index']\n",
    "plt.plot(x,y)"
   ]
  },
  {
   "cell_type": "code",
   "execution_count": 30,
   "metadata": {},
   "outputs": [
    {
     "name": "stdout",
     "output_type": "stream",
     "text": [
      "       Target\n",
      "Index        \n",
      "5600        4\n",
      "5601        3\n",
      "5602        4\n",
      "5603        4\n",
      "5604        3\n",
      "...       ...\n",
      "6385        4\n",
      "6386        4\n",
      "6387        3\n",
      "6388        4\n",
      "6389        3\n",
      "\n",
      "[790 rows x 1 columns]\n"
     ]
    },
    {
     "data": {
      "image/png": "[encoded data removed]",
      "text/plain": [
       "<Figure size 432x288 with 1 Axes>"
      ]
     },
     "metadata": {
      "needs_background": "light"
     },
     "output_type": "display_data"
    }
   ],
   "source": [
    "plt.plot(x,labels)\n",
    "df.to_csv('Submission.csv')\n",
    "print(df)"
   ]
  },
  {
   "cell_type": "code",
   "execution_count": null,
   "metadata": {},
   "outputs": [],
   "source": []
  }
 ],
 "metadata": {
  "kernelspec": {
   "display_name": "Python 3",
   "language": "python",
   "name": "python3"
  },
  "language_info": {
   "codemirror_mode": {
    "name": "ipython",
    "version": 3
   },
   "file_extension": ".py",
   "mimetype": "text/x-python",
   "name": "python",
   "nbconvert_exporter": "python",
   "pygments_lexer": "ipython3",
   "version": "3.7.0"
  }
 },
 "nbformat": 4,
 "nbformat_minor": 2
}
